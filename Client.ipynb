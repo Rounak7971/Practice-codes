{
 "cells": [
  {
   "cell_type": "code",
   "execution_count": 4,
   "metadata": {},
   "outputs": [
    {
     "name": "stdout",
     "output_type": "stream",
     "text": [
      "Put your nameGouramg\n",
      "Welcome to the world of programming\n"
     ]
    }
   ],
   "source": [
    "import socket\n",
    "c=socket.socket()\n",
    "c.connect(('localhost',9999))\n",
    "name=input('Put your name')\n",
    "c.send(bytes(name,'utf-8'))\n",
    "print(c.recv(1024).decode())"
   ]
  },
  {
   "cell_type": "code",
   "execution_count": 2,
   "metadata": {},
   "outputs": [
    {
     "name": "stdout",
     "output_type": "stream",
     "text": [
      "Welcome to the world of programming\n"
     ]
    }
   ],
   "source": []
  },
  {
   "cell_type": "code",
   "execution_count": 3,
   "metadata": {},
   "outputs": [
    {
     "name": "stdout",
     "output_type": "stream",
     "text": [
      "Put your lastnameNaryani\n",
      "Welcome to python\n"
     ]
    }
   ],
   "source": [
    "c1=socket.socket()\n",
    "c1.connect(('localhost',9998))\n",
    "lastname=input('Put your lastname')\n",
    "c1.send(bytes(lastname,'utf-8'))\n",
    "print(c1.recv(1024).decode())"
   ]
  },
  {
   "cell_type": "code",
   "execution_count": null,
   "metadata": {},
   "outputs": [],
   "source": []
  }
 ],
 "metadata": {
  "kernelspec": {
   "display_name": "Python 3",
   "language": "python",
   "name": "python3"
  },
  "language_info": {
   "codemirror_mode": {
    "name": "ipython",
    "version": 3
   },
   "file_extension": ".py",
   "mimetype": "text/x-python",
   "name": "python",
   "nbconvert_exporter": "python",
   "pygments_lexer": "ipython3",
   "version": "3.7.6"
  }
 },
 "nbformat": 4,
 "nbformat_minor": 4
}
