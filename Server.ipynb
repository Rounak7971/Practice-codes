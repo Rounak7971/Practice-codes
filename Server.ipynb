{
 "cells": [
  {
   "cell_type": "code",
   "execution_count": 1,
   "metadata": {},
   "outputs": [],
   "source": [
    "import socket"
   ]
  },
  {
   "cell_type": "code",
   "execution_count": 2,
   "metadata": {},
   "outputs": [
    {
     "name": "stdout",
     "output_type": "stream",
     "text": [
      "socket created\n"
     ]
    }
   ],
   "source": [
    "s=socket.socket()\n",
    "s.bind(('localhost',9999))\n",
    "print('socket created')\n"
   ]
  },
  {
   "cell_type": "code",
   "execution_count": 3,
   "metadata": {},
   "outputs": [],
   "source": [
    "s.listen(3)"
   ]
  },
  {
   "cell_type": "code",
   "execution_count": null,
   "metadata": {},
   "outputs": [
    {
     "name": "stdout",
     "output_type": "stream",
     "text": [
      "Waiting for the client\n",
      "Connected with ('127.0.0.1', 54350) Rounak\n",
      "Connected with ('127.0.0.1', 54410) Gouramg\n"
     ]
    }
   ],
   "source": [
    "print('Waiting for the client')\n",
    "while True:\n",
    "    c,addr=s.accept()\n",
    "    name=c.recv(1024).decode()\n",
    "    print('Connected with',addr,name)\n",
    "    \n",
    "    c.send(bytes('Welcome to the world of programming','utf-8'))\n",
    "    c.close()"
   ]
  },
  {
   "cell_type": "code",
   "execution_count": null,
   "metadata": {},
   "outputs": [],
   "source": []
  },
  {
   "cell_type": "code",
   "execution_count": null,
   "metadata": {},
   "outputs": [],
   "source": []
  }
 ],
 "metadata": {
  "kernelspec": {
   "display_name": "Python 3",
   "language": "python",
   "name": "python3"
  },
  "language_info": {
   "codemirror_mode": {
    "name": "ipython",
    "version": 3
   },
   "file_extension": ".py",
   "mimetype": "text/x-python",
   "name": "python",
   "nbconvert_exporter": "python",
   "pygments_lexer": "ipython3",
   "version": "3.7.6"
  }
 },
 "nbformat": 4,
 "nbformat_minor": 4
}
