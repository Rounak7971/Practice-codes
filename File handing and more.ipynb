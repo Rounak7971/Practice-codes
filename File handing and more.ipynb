{
 "cells": [
  {
   "cell_type": "code",
   "execution_count": 20,
   "metadata": {},
   "outputs": [],
   "source": [
    "f=open(r'C:\\Users\\aish\\Desktop\\Python Data Science\\File.txt','r')\n",
    "k=open('ACB','a')"
   ]
  },
  {
   "cell_type": "code",
   "execution_count": 21,
   "metadata": {},
   "outputs": [],
   "source": [
    "for i in f:\n",
    "    k.write(i)\n"
   ]
  },
  {
   "cell_type": "code",
   "execution_count": 27,
   "metadata": {},
   "outputs": [],
   "source": [
    "pic=open(r'C:\\Users\\aish\\Desktop\\Python Data Science\\ICT.PNG','rb')\n",
    "pic2=open('Pic2.PNG','ab')\n",
    "for i in pic:\n",
    "    pic2.write(i)\n",
    "    "
   ]
  },
  {
   "cell_type": "code",
   "execution_count": 29,
   "metadata": {},
   "outputs": [],
   "source": [
    "pic.close()\n",
    "pic2.close()"
   ]
  },
  {
   "cell_type": "code",
   "execution_count": 38,
   "metadata": {},
   "outputs": [
    {
     "name": "stdout",
     "output_type": "stream",
     "text": [
      "Not found\n"
     ]
    }
   ],
   "source": [
    "arr=[2,5,6,7,8,9]\n",
    "for i in arr:\n",
    "    if i==888:\n",
    "        print('Yeah')\n",
    "        break\n",
    "\n",
    "else:\n",
    "    print('Not found')\n"
   ]
  },
  {
   "cell_type": "code",
   "execution_count": 5,
   "metadata": {},
   "outputs": [
    {
     "name": "stdout",
     "output_type": "stream",
     "text": [
      "Found\n",
      "4\n"
     ]
    }
   ],
   "source": [
    "pos=0\n",
    "def search(lst,a):\n",
    "    for i in lst:\n",
    "        if i==a:\n",
    "            return True\n",
    "    else:\n",
    "        return False\n",
    "arr=[4,5,6,7,8,3,2,1]\n",
    "n=8\n",
    "if search(arr,n):\n",
    "    print('Found')\n",
    "    print(arr.index(n))\n",
    "else:\n",
    "    print('Not Found')"
   ]
  },
  {
   "cell_type": "code",
   "execution_count": 8,
   "metadata": {},
   "outputs": [
    {
     "name": "stdout",
     "output_type": "stream",
     "text": [
      "Found\n",
      "Not found\n",
      "4\n"
     ]
    }
   ],
   "source": [
    "def searchw(lst,a):\n",
    "    i=0\n",
    "    while i<len(lst):\n",
    "        if lst[i]==n:\n",
    "            globals()['pos']=i\n",
    "            print('Found')\n",
    "        i+=1\n",
    "    else:\n",
    "        print('Not found')\n",
    "        \n",
    "searchw(arr,n)\n",
    "print(pos)"
   ]
  },
  {
   "cell_type": "code",
   "execution_count": 19,
   "metadata": {},
   "outputs": [
    {
     "name": "stdout",
     "output_type": "stream",
     "text": [
      "6\n"
     ]
    }
   ],
   "source": [
    "\n",
    "def fact(n):\n",
    "    if n==1:\n",
    "        f=1\n",
    "    else:\n",
    "        f=n*fact(n-1)\n",
    "    return f\n",
    "print(fact(3))"
   ]
  },
  {
   "cell_type": "markdown",
   "metadata": {},
   "source": [
    "BINARY SEARCH"
   ]
  },
  {
   "cell_type": "code",
   "execution_count": 56,
   "metadata": {},
   "outputs": [],
   "source": [
    "\n",
    "b=[1,4,5,6,7,8,9,10,12]\n",
    "n=12\n",
    "\n",
    "L=0\n",
    "U=len(b)-1\n",
    "i=0\n",
    "while i<len(lst):\n",
    "    if lst[int((U+L)/2)]==n:\n",
    "        print('Found')\n",
    "        break\n",
    "    elif lst[int((U+L)/2)]<n:\n",
    "        L=int((U+L)/2)\n",
    "    elif lst[int((U+L)/2)]>n:\n",
    "        U=int((U+L)/2)\n",
    "    else:\n",
    "        print('Found at centre')\n",
    "        break\n",
    "    i+=1\n",
    "\n",
    "\n",
    "\n",
    "        \n",
    "\n",
    "\n",
    "\n",
    "\n"
   ]
  },
  {
   "cell_type": "code",
   "execution_count": 106,
   "metadata": {},
   "outputs": [
    {
     "name": "stdout",
     "output_type": "stream",
     "text": [
      "Not found\n"
     ]
    }
   ],
   "source": [
    "pos=0\n",
    "def binary(lst,n):\n",
    "    u=len(lst)-1\n",
    "    l=0\n",
    "    while l<=u:\n",
    "        mid=int((u+l)/2)\n",
    "        if lst[mid]==n:\n",
    "            globals()['pos']=mid\n",
    "            return True\n",
    "        else:\n",
    "            if lst[mid]<n:\n",
    "                l=mid+1\n",
    "            else:\n",
    "                u=mid-1\n",
    "\n",
    "lst=[1,2,3,4,5,6,7,8,9]        \n",
    "n=-33\n",
    "if binary(lst,n):\n",
    "    print('Found',pos+1)\n",
    "else:\n",
    "    print('Not found')"
   ]
  },
  {
   "cell_type": "code",
   "execution_count": 112,
   "metadata": {},
   "outputs": [],
   "source": []
  },
  {
   "cell_type": "code",
   "execution_count": 127,
   "metadata": {},
   "outputs": [
    {
     "name": "stdout",
     "output_type": "stream",
     "text": [
      "[-2, 1, 2, 3, 4, 5, 7, 88]\n"
     ]
    }
   ],
   "source": [
    "s=[1,88,3,2,7,5,-2,4]\n",
    "i=0\n",
    "num=0\n",
    "while i<len(s):\n",
    "    j=i+1\n",
    "    while j<len(s):\n",
    "        if s[i]>s[j]:\n",
    "            num=s[i]\n",
    "            s[i]=s[j]\n",
    "            s[j]=num\n",
    "        else:\n",
    "            pass\n",
    "        j+=1\n",
    "    i+=1\n",
    "    \n",
    "print(s)\n",
    "        "
   ]
  },
  {
   "cell_type": "code",
   "execution_count": 129,
   "metadata": {},
   "outputs": [],
   "source": [
    "k=[1,5,3,2,9,7,6]\n",
    "num=0\n",
    "for i in range(0,len(k)):\n",
    "    for j in range(i+1,len(k)):\n",
    "        if k[i]>k[j]:\n",
    "            num=k[i]\n",
    "            k[i]=k[j]\n",
    "            k[j]=num\n",
    "        else:\n",
    "            pass\n"
   ]
  },
  {
   "cell_type": "code",
   "execution_count": 130,
   "metadata": {},
   "outputs": [
    {
     "name": "stdout",
     "output_type": "stream",
     "text": [
      "[1, 2, 3, 5, 6, 7, 9]\n"
     ]
    }
   ],
   "source": [
    "print(k)"
   ]
  },
  {
   "cell_type": "code",
   "execution_count": 2,
   "metadata": {},
   "outputs": [
    {
     "name": "stdout",
     "output_type": "stream",
     "text": [
      "[-3, 1, 2, 5, 6, 7, 9]\n"
     ]
    }
   ],
   "source": [
    "b=[1,-3,2,7,5,9,6]\n",
    "def sort(num):\n",
    "    n=0\n",
    "    for i in range(len(b)-1,0,-1):\n",
    "        for j in range(i):\n",
    "            if num[j]>num[j+1]:\n",
    "                n=num[j]\n",
    "                num[j]=num[j+1]\n",
    "                num[j+1]=n\n",
    "            else:\n",
    "                pass\n",
    "\n",
    "            \n",
    "sort(b)\n",
    "print(b)"
   ]
  },
  {
   "cell_type": "code",
   "execution_count": 10,
   "metadata": {},
   "outputs": [],
   "source": [
    "import mysql.connector\n",
    "mydb=mysql.connector.connect(host='localhost',user='root',passwd='root',database='rounak')"
   ]
  },
  {
   "cell_type": "code",
   "execution_count": 17,
   "metadata": {},
   "outputs": [],
   "source": [
    "pointer=mydb.cursor()\n",
    "pointer.execute('select * from student')\n",
    "result=pointer.fetchone()"
   ]
  },
  {
   "cell_type": "code",
   "execution_count": 20,
   "metadata": {},
   "outputs": [
    {
     "name": "stdout",
     "output_type": "stream",
     "text": [
      "Abu Bakar\n",
      "15\n",
      "M\n",
      "9531185\n",
      "456\n"
     ]
    }
   ],
   "source": [
    "for i in result:\n",
    "    print(i)"
   ]
  },
  {
   "cell_type": "code",
   "execution_count": null,
   "metadata": {},
   "outputs": [],
   "source": []
  }
 ],
 "metadata": {
  "kernelspec": {
   "display_name": "Python 3",
   "language": "python",
   "name": "python3"
  },
  "language_info": {
   "codemirror_mode": {
    "name": "ipython",
    "version": 3
   },
   "file_extension": ".py",
   "mimetype": "text/x-python",
   "name": "python",
   "nbconvert_exporter": "python",
   "pygments_lexer": "ipython3",
   "version": "3.7.6"
  }
 },
 "nbformat": 4,
 "nbformat_minor": 4
}
