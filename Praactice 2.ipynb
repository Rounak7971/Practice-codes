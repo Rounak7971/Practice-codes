{
 "cells": [
  {
   "cell_type": "code",
   "execution_count": 18,
   "metadata": {},
   "outputs": [
    {
     "name": "stdout",
     "output_type": "stream",
     "text": [
      "How many candies you want555\n",
      "Sorry,  we are out of stock\n",
      "Bye Bye\n"
     ]
    }
   ],
   "source": [
    "ava=5\n",
    "x=int(input(\"How many candies you want\"))\n",
    "i=1\n",
    "if x<=ava:\n",
    "    while i<=x:\n",
    "        print('Candies')\n",
    "        i+=1\n",
    "else:\n",
    "    print(\"Sorry,  we are out of stock\")\n",
    "print('Bye Bye')\n",
    "   "
   ]
  },
  {
   "cell_type": "code",
   "execution_count": 25,
   "metadata": {},
   "outputs": [
    {
     "name": "stdout",
     "output_type": "stream",
     "text": [
      "How many candies do you want88\n",
      "Candies\n",
      "Candies\n",
      "Candies\n",
      "Candies\n",
      "Candies\n",
      "Sorry, weare out of stock\n",
      "Bye\n"
     ]
    }
   ],
   "source": [
    "x=int(input(\"How many candies do you want\"))\n",
    "i=1\n",
    "while i<=x:\n",
    "    if i>ava:\n",
    "        print('Sorry, weare out of stock')\n",
    "        break\n",
    "    print('Candies')\n",
    "    i+=1\n",
    "        \n",
    "print('Bye')"
   ]
  },
  {
   "cell_type": "code",
   "execution_count": 26,
   "metadata": {},
   "outputs": [
    {
     "name": "stdout",
     "output_type": "stream",
     "text": [
      "1\n",
      "2\n",
      "4\n",
      "5\n",
      "7\n",
      "8\n",
      "10\n",
      "11\n",
      "13\n",
      "14\n",
      "16\n",
      "17\n",
      "19\n",
      "20\n",
      "22\n",
      "23\n",
      "25\n",
      "26\n",
      "28\n",
      "29\n",
      "31\n",
      "32\n",
      "34\n",
      "35\n",
      "37\n",
      "38\n",
      "40\n",
      "41\n",
      "43\n",
      "44\n",
      "46\n",
      "47\n",
      "49\n",
      "50\n",
      "52\n",
      "53\n",
      "55\n",
      "56\n",
      "58\n",
      "59\n",
      "61\n",
      "62\n",
      "64\n",
      "65\n",
      "67\n",
      "68\n",
      "70\n",
      "71\n",
      "73\n",
      "74\n",
      "76\n",
      "77\n",
      "79\n",
      "80\n",
      "82\n",
      "83\n",
      "85\n",
      "86\n",
      "88\n",
      "89\n",
      "91\n",
      "92\n",
      "94\n",
      "95\n",
      "97\n",
      "98\n",
      "100\n",
      "bye\n"
     ]
    }
   ],
   "source": [
    "for i in range(1,101):\n",
    "    if i%3==0:\n",
    "        continue\n",
    "    print(i)\n",
    "print('bye')"
   ]
  },
  {
   "cell_type": "code",
   "execution_count": 27,
   "metadata": {},
   "outputs": [
    {
     "name": "stdout",
     "output_type": "stream",
     "text": [
      "2\n",
      "4\n",
      "6\n",
      "8\n",
      "10\n",
      "12\n",
      "14\n",
      "16\n",
      "18\n",
      "20\n"
     ]
    }
   ],
   "source": [
    "for i in range(1,11):\n",
    "    print(2*i)"
   ]
  },
  {
   "cell_type": "code",
   "execution_count": 33,
   "metadata": {},
   "outputs": [
    {
     "name": "stdout",
     "output_type": "stream",
     "text": [
      "2\n",
      "4\n",
      "6\n",
      "8\n",
      "10\n",
      "bye\n"
     ]
    }
   ],
   "source": [
    "for i in range (1,11):\n",
    "    if not(i%2==0):\n",
    "        pass\n",
    "    else:\n",
    "        print(i)\n",
    "        \n",
    "print('bye')"
   ]
  },
  {
   "cell_type": "code",
   "execution_count": 2,
   "metadata": {},
   "outputs": [
    {
     "name": "stdout",
     "output_type": "stream",
     "text": [
      "Number of terms10\n",
      "1\n",
      "1\n",
      "2\n",
      "3\n",
      "5\n",
      "8\n",
      "13\n",
      "21\n",
      "34\n",
      "55\n"
     ]
    }
   ],
   "source": [
    "num=int(input(\"Number of terms\"))\n",
    "x=[]\n",
    "i=0\n",
    "while i<=num:\n",
    "    if i<=1:\n",
    "        x.append(i)\n",
    "    else:\n",
    "        x.append(x[i-1]+x[i-2])\n",
    "    i+=1\n",
    "for n  in x:\n",
    "    if n==0:\n",
    "        continue\n",
    "    print(n)\n",
    "        \n",
    "    "
   ]
  },
  {
   "cell_type": "code",
   "execution_count": null,
   "metadata": {},
   "outputs": [],
   "source": [
    "p=int(input(\"Put the number for prime testing\"))\n",
    "if p>1:\n",
    "    for i in range(2,p):\n",
    "        if p%i==0:\n",
    "            print(\"The number is non prime\")\n",
    "            break\n",
    "    else:\n",
    "        print(p,' is a prime number')\n",
    "        \n",
    "else:\n",
    "    print(p,' is a prime number')\n",
    "\n",
    "    "
   ]
  },
  {
   "cell_type": "code",
   "execution_count": 4,
   "metadata": {},
   "outputs": [
    {
     "name": "stdout",
     "output_type": "stream",
     "text": [
      "####\n",
      "####\n",
      "####\n",
      "####\n"
     ]
    }
   ],
   "source": [
    "i=1\n",
    "while i<=4:\n",
    "    print('#',end=\"\")\n",
    "    i+=1\n",
    "    j=1\n",
    "    while j<=3:\n",
    "        print('#',end=\"\")\n",
    "        j+=1\n",
    "    print()\n",
    "    "
   ]
  },
  {
   "cell_type": "code",
   "execution_count": 7,
   "metadata": {},
   "outputs": [
    {
     "name": "stdout",
     "output_type": "stream",
     "text": [
      "####\n",
      "####\n",
      "####\n",
      "####\n"
     ]
    }
   ],
   "source": [
    "for j in range(4):\n",
    "    for i in range(4):\n",
    "        print('#',end=\"\")\n",
    "    print()"
   ]
  },
  {
   "cell_type": "code",
   "execution_count": 8,
   "metadata": {},
   "outputs": [
    {
     "name": "stdout",
     "output_type": "stream",
     "text": [
      "#\n",
      "##\n",
      "###\n",
      "####\n"
     ]
    }
   ],
   "source": [
    "for i in range(1,5,1):\n",
    "    print('#'*i)"
   ]
  },
  {
   "cell_type": "code",
   "execution_count": 9,
   "metadata": {},
   "outputs": [
    {
     "name": "stdout",
     "output_type": "stream",
     "text": [
      "####\n",
      "###\n",
      "##\n",
      "#\n"
     ]
    }
   ],
   "source": [
    "for i in range(1,5,1):\n",
    "    print('#'*(5-i))"
   ]
  },
  {
   "cell_type": "code",
   "execution_count": 25,
   "metadata": {},
   "outputs": [
    {
     "name": "stdout",
     "output_type": "stream",
     "text": [
      "1234\n",
      "234\n",
      "34\n",
      "4\n"
     ]
    }
   ],
   "source": [
    "j=1\n",
    "while j<=4:\n",
    "    i=j\n",
    "    while i<=4:\n",
    "        print(i,end='')\n",
    "        i+=1\n",
    "    j+=1\n",
    "    print()\n",
    "    \n"
   ]
  },
  {
   "cell_type": "code",
   "execution_count": 26,
   "metadata": {},
   "outputs": [
    {
     "data": {
      "text/plain": [
       "'AB'"
      ]
     },
     "execution_count": 26,
     "metadata": {},
     "output_type": "execute_result"
    }
   ],
   "source": [
    "x='ABCD'\n",
    "x[0:2]"
   ]
  },
  {
   "cell_type": "code",
   "execution_count": 45,
   "metadata": {},
   "outputs": [
    {
     "name": "stdout",
     "output_type": "stream",
     "text": [
      "APQR\n",
      "ABPQ\n",
      "ABCP\n",
      "ABCD\n"
     ]
    }
   ],
   "source": [
    "x='ABCD'\n",
    "y='PQR'\n",
    "i=1\n",
    "while i<=4:\n",
    "    print(x[0:i]+y[0:4-i])\n",
    "    i+=1"
   ]
  },
  {
   "cell_type": "code",
   "execution_count": 32,
   "metadata": {},
   "outputs": [
    {
     "data": {
      "text/plain": [
       "'A'"
      ]
     },
     "execution_count": 32,
     "metadata": {},
     "output_type": "execute_result"
    }
   ],
   "source": [
    "x[0:1]"
   ]
  },
  {
   "cell_type": "code",
   "execution_count": 54,
   "metadata": {},
   "outputs": [
    {
     "name": "stdout",
     "output_type": "stream",
     "text": [
      "None of them is divisible by 5\n"
     ]
    }
   ],
   "source": [
    "nums=[2,3,11,56,49,62,32]\n",
    "for n in nums:\n",
    "    if n%5==0:\n",
    "        print(n)\n",
    "        break\n",
    "else:\n",
    "    print('None of them is divisible by 5')\n",
    "    "
   ]
  },
  {
   "cell_type": "code",
   "execution_count": 55,
   "metadata": {},
   "outputs": [],
   "source": [
    "x=('a',2)"
   ]
  },
  {
   "cell_type": "code",
   "execution_count": 68,
   "metadata": {},
   "outputs": [],
   "source": [
    "from array import *\n",
    "val=array('i',[-2,3,5])"
   ]
  },
  {
   "cell_type": "code",
   "execution_count": 69,
   "metadata": {},
   "outputs": [
    {
     "name": "stdout",
     "output_type": "stream",
     "text": [
      "array('i', [-2, 3, 5])\n"
     ]
    }
   ],
   "source": [
    "print(val)"
   ]
  },
  {
   "cell_type": "code",
   "execution_count": 71,
   "metadata": {},
   "outputs": [
    {
     "data": {
      "text/plain": [
       "(88447712, 3)"
      ]
     },
     "execution_count": 71,
     "metadata": {},
     "output_type": "execute_result"
    }
   ],
   "source": [
    "val.buffer_info()"
   ]
  },
  {
   "cell_type": "code",
   "execution_count": 74,
   "metadata": {},
   "outputs": [
    {
     "data": {
      "text/plain": [
       "'i'"
      ]
     },
     "execution_count": 74,
     "metadata": {},
     "output_type": "execute_result"
    }
   ],
   "source": [
    "val.typecode"
   ]
  },
  {
   "cell_type": "code",
   "execution_count": 80,
   "metadata": {},
   "outputs": [
    {
     "data": {
      "text/plain": [
       "array('i', [-2, 3, 5])"
      ]
     },
     "execution_count": 80,
     "metadata": {},
     "output_type": "execute_result"
    }
   ],
   "source": [
    "val.reverse()\n",
    "val"
   ]
  },
  {
   "cell_type": "code",
   "execution_count": 81,
   "metadata": {},
   "outputs": [
    {
     "data": {
      "text/plain": [
       "array('i', [-2, 3, 5])"
      ]
     },
     "execution_count": 81,
     "metadata": {},
     "output_type": "execute_result"
    }
   ],
   "source": [
    "val"
   ]
  },
  {
   "cell_type": "code",
   "execution_count": 82,
   "metadata": {},
   "outputs": [],
   "source": [
    "val.reverse()"
   ]
  },
  {
   "cell_type": "code",
   "execution_count": 83,
   "metadata": {},
   "outputs": [
    {
     "data": {
      "text/plain": [
       "array('i', [5, 3, -2])"
      ]
     },
     "execution_count": 83,
     "metadata": {},
     "output_type": "execute_result"
    }
   ],
   "source": [
    "val"
   ]
  },
  {
   "cell_type": "code",
   "execution_count": 84,
   "metadata": {},
   "outputs": [
    {
     "name": "stdout",
     "output_type": "stream",
     "text": [
      "5\n",
      "3\n",
      "-2\n"
     ]
    }
   ],
   "source": [
    "for n in val:\n",
    "    print(n)"
   ]
  },
  {
   "cell_type": "code",
   "execution_count": 86,
   "metadata": {},
   "outputs": [
    {
     "name": "stdout",
     "output_type": "stream",
     "text": [
      "5\n",
      "3\n",
      "-2\n"
     ]
    }
   ],
   "source": [
    "for i in range(3):\n",
    "    print(val[i])"
   ]
  },
  {
   "cell_type": "code",
   "execution_count": 88,
   "metadata": {},
   "outputs": [
    {
     "name": "stdout",
     "output_type": "stream",
     "text": [
      "5\n",
      "3\n",
      "-2\n"
     ]
    }
   ],
   "source": [
    "for i in range(len(val)):\n",
    "    print(val[i])"
   ]
  },
  {
   "cell_type": "code",
   "execution_count": 89,
   "metadata": {},
   "outputs": [],
   "source": [
    "newarr=array(val.typecode,val)"
   ]
  },
  {
   "cell_type": "code",
   "execution_count": 90,
   "metadata": {},
   "outputs": [
    {
     "data": {
      "text/plain": [
       "array('i', [5, 3, -2])"
      ]
     },
     "execution_count": 90,
     "metadata": {},
     "output_type": "execute_result"
    }
   ],
   "source": [
    "newarr"
   ]
  },
  {
   "cell_type": "code",
   "execution_count": 91,
   "metadata": {},
   "outputs": [],
   "source": [
    "narr=array(val.typecode,(a for a in val))"
   ]
  },
  {
   "cell_type": "code",
   "execution_count": 92,
   "metadata": {},
   "outputs": [
    {
     "data": {
      "text/plain": [
       "array('i', [5, 3, -2])"
      ]
     },
     "execution_count": 92,
     "metadata": {},
     "output_type": "execute_result"
    }
   ],
   "source": [
    "narr"
   ]
  },
  {
   "cell_type": "code",
   "execution_count": 94,
   "metadata": {},
   "outputs": [
    {
     "data": {
      "text/plain": [
       "array('i', [25, 9, 4])"
      ]
     },
     "execution_count": 94,
     "metadata": {},
     "output_type": "execute_result"
    }
   ],
   "source": [
    "naar2=array(val.typecode,(a*a for a in val))\n",
    "naar2"
   ]
  },
  {
   "cell_type": "code",
   "execution_count": 96,
   "metadata": {},
   "outputs": [
    {
     "name": "stdout",
     "output_type": "stream",
     "text": [
      "25\n",
      "9\n",
      "4\n"
     ]
    }
   ],
   "source": [
    "i=0\n",
    "while i<len(naar2):\n",
    "    print(naar2[i])\n",
    "    i+=1"
   ]
  },
  {
   "cell_type": "code",
   "execution_count": 97,
   "metadata": {},
   "outputs": [
    {
     "data": {
      "text/plain": [
       "array('i', [5, 3, -2])"
      ]
     },
     "execution_count": 97,
     "metadata": {},
     "output_type": "execute_result"
    }
   ],
   "source": [
    "val\n"
   ]
  },
  {
   "cell_type": "code",
   "execution_count": 98,
   "metadata": {},
   "outputs": [
    {
     "data": {
      "text/plain": [
       "array('i', [25, 9, 4])"
      ]
     },
     "execution_count": 98,
     "metadata": {},
     "output_type": "execute_result"
    }
   ],
   "source": [
    "naar2"
   ]
  },
  {
   "cell_type": "code",
   "execution_count": 101,
   "metadata": {},
   "outputs": [],
   "source": [
    "var=array('i')\n",
    "i=0\n",
    "while i<len(naar2):\n",
    "    for n in naar2:\n",
    "        if naar2[i]<n:\n",
    "            var.append(naar2[i])\n",
    "    i+=1\n",
    "    "
   ]
  },
  {
   "cell_type": "code",
   "execution_count": 102,
   "metadata": {},
   "outputs": [
    {
     "data": {
      "text/plain": [
       "array('i', [9, 4, 4])"
      ]
     },
     "execution_count": 102,
     "metadata": {},
     "output_type": "execute_result"
    }
   ],
   "source": [
    "var"
   ]
  },
  {
   "cell_type": "code",
   "execution_count": 103,
   "metadata": {},
   "outputs": [],
   "source": [
    "v=array('i')"
   ]
  },
  {
   "cell_type": "code",
   "execution_count": 104,
   "metadata": {},
   "outputs": [
    {
     "data": {
      "text/plain": [
       "array('i')"
      ]
     },
     "execution_count": 104,
     "metadata": {},
     "output_type": "execute_result"
    }
   ],
   "source": [
    "v"
   ]
  },
  {
   "cell_type": "code",
   "execution_count": 105,
   "metadata": {},
   "outputs": [],
   "source": [
    "v.append(2)"
   ]
  },
  {
   "cell_type": "code",
   "execution_count": 106,
   "metadata": {},
   "outputs": [
    {
     "data": {
      "text/plain": [
       "array('i', [2])"
      ]
     },
     "execution_count": 106,
     "metadata": {},
     "output_type": "execute_result"
    }
   ],
   "source": [
    "v"
   ]
  },
  {
   "cell_type": "code",
   "execution_count": 108,
   "metadata": {},
   "outputs": [],
   "source": [
    "d=array('i',[2,88,101,-32,54,36,52,-50])"
   ]
  },
  {
   "cell_type": "code",
   "execution_count": 110,
   "metadata": {},
   "outputs": [
    {
     "name": "stdout",
     "output_type": "stream",
     "text": [
      "array('i', [-50, -32, 2, 36, 52, 54, 88, 101])\n"
     ]
    }
   ],
   "source": [
    "\n",
    "num=0\n",
    "i=0\n",
    "while i<len(d):\n",
    "    j=i+1\n",
    "    \n",
    "    while j<len(d):\n",
    "        if d[i]>d[j]:\n",
    "            num=d[j]\n",
    "            d[j]=d[i]\n",
    "            d[i]=num\n",
    "        j+=1\n",
    "    i+=1\n",
    "print(d)\n",
    "            "
   ]
  },
  {
   "cell_type": "code",
   "execution_count": 113,
   "metadata": {},
   "outputs": [
    {
     "name": "stdout",
     "output_type": "stream",
     "text": [
      "Which number you want to apply factorial operation on?10\n",
      "The factorial of  10 is 3628800\n"
     ]
    }
   ],
   "source": [
    "n=int(input(\"Which number you want to apply factorial operation on?\"))\n",
    "i=1\n",
    "num=1\n",
    "while i<=n:\n",
    "    num=num*i\n",
    "    i+=1\n",
    "print('The factorial of ',n,'is',num)"
   ]
  },
  {
   "cell_type": "code",
   "execution_count": 3,
   "metadata": {},
   "outputs": [
    {
     "name": "stdout",
     "output_type": "stream",
     "text": [
      "Hey user, how many values you want in your array?5\n",
      "Hey user, put your value-16\n",
      "Hey user, put your value-100\n",
      "Hey user, put your value89\n",
      "Hey user, put your value21\n",
      "Hey user, put your value35\n",
      "Your array is  array('i', [-16, -100, 89, 21, 35])\n",
      "Your array in ascending order is  array('i', [-100, -16, 21, 35, 89])\n"
     ]
    }
   ],
   "source": [
    "from array import *\n",
    "arr=array('i',[])\n",
    "n=int(input(\"Hey user, how many values you want in your array?\"))\n",
    "i=0\n",
    "while i<n:\n",
    "    arr.append(int(input(\"Hey user, put your value\")))\n",
    "    i+=1\n",
    "print('Your array is ',arr)\n",
    "\n",
    "\n",
    "num=0\n",
    "i=0\n",
    "while i<len(arr):\n",
    "    j=i+1\n",
    "    while j<len(arr):\n",
    "        if arr[i]>arr[j]:\n",
    "            num=arr[i]\n",
    "            arr[i]=arr[j]\n",
    "            arr[j]=num\n",
    "        j+=1\n",
    "    i+=1\n",
    "\n",
    "print('Your array in ascending order is ',arr)"
   ]
  },
  {
   "cell_type": "code",
   "execution_count": 7,
   "metadata": {},
   "outputs": [
    {
     "name": "stdout",
     "output_type": "stream",
     "text": [
      "Hey user, how many values you want in your array?5\n",
      "Hey user, put your value1\n",
      "Hey user, put your value89\n",
      "Hey user, put your value-32\n",
      "Hey user, put your value45\n",
      "Hey user, put your value78\n",
      "Your array is  array('i', [1, 89, -32, 45, 78])\n",
      "Which number you wanna search index for?45\n",
      "The index value is  3\n",
      "3\n"
     ]
    }
   ],
   "source": [
    "from array import *\n",
    "arr=array('i',[])\n",
    "n=int(input(\"Hey user, how many values you want in your array?\"))\n",
    "i=0\n",
    "while i<n:\n",
    "    arr.append(int(input(\"Hey user, put your value\")))\n",
    "    i+=1\n",
    "print('Your array is ',arr)\n",
    "\n",
    "\n",
    "a=int(input(\"Which number you wanna search index for?\"))\n",
    "i=0\n",
    "while i<n:\n",
    "    if arr[i]==a:\n",
    "        print('The index value is ',i)\n",
    "        break\n",
    "    i+=1\n",
    "#ANOTHER METHOD USING PR-DEFINED FUNCTION\n",
    "print(arr.index(a))\n"
   ]
  },
  {
   "cell_type": "code",
   "execution_count": 34,
   "metadata": {},
   "outputs": [
    {
     "name": "stdout",
     "output_type": "stream",
     "text": [
      "Hey user, how many values you want in your array?4\n",
      "Hey user, put your value1\n",
      "Hey user, put your value2\n",
      "Hey user, put your value3\n",
      "Hey user, put your value8\n",
      "Your array is  array('i', [1, 2, 3, 8])\n",
      "Reverse array is  array('i', [8, 1, 3, 2])\n"
     ]
    }
   ],
   "source": [
    "from array import *\n",
    "arr=array('i',[])\n",
    "n=int(input(\"Hey user, how many values you want in your array?\"))\n",
    "i=0\n",
    "while i<n:\n",
    "    arr.append(int(input(\"Hey user, put your value\")))\n",
    "    i+=1\n",
    "print('Your array is ',arr)\n",
    "ex=0\n",
    "if n%2==0:\n",
    "    i=0\n",
    "    while i<n/2:\n",
    "        ex=arr[i]\n",
    "        arr[i]=arr[n-1]\n",
    "        arr[n-1]=ex\n",
    "        i+=1\n",
    "else:\n",
    "    i=0\n",
    "    while i<(n-1)/2:\n",
    "        ex=arr[i]\n",
    "        arr[i]=arr[n-1]\n",
    "        arr[n-1]=ex\n",
    "        i+=1\n",
    "print(\"Reverse array is \",arr)\n",
    "\n",
    "\n",
    "        \n",
    "    "
   ]
  },
  {
   "cell_type": "code",
   "execution_count": 16,
   "metadata": {},
   "outputs": [
    {
     "name": "stdout",
     "output_type": "stream",
     "text": [
      "Hey user, how many values you want in your array?5\n",
      "Hey user, put your value1\n",
      "Hey user, put your value2\n",
      "Hey user, put your value3\n",
      "Hey user, put your value4\n",
      "Hey user, put your value5\n",
      "Your array is  array('i', [1, 2, 3, 4, 5])\n",
      "1\n",
      "2\n",
      "4\n",
      "5\n"
     ]
    }
   ],
   "source": [
    "from array import *\n",
    "arr=array('i',[])\n",
    "n=int(input(\"Hey user, how many values you want in your array?\"))\n",
    "i=0\n",
    "while i<n:\n",
    "    arr.append(int(input(\"Hey user, put your value\")))\n",
    "    i+=1\n",
    "print('Your array is ',arr)\n",
    "\n",
    "i=0\n",
    "while i<n:\n",
    "    if i==2:\n",
    "        pass\n",
    "    else:\n",
    "        print(arr[i])\n",
    "    i+=1\n"
   ]
  },
  {
   "cell_type": "code",
   "execution_count": 26,
   "metadata": {},
   "outputs": [
    {
     "name": "stdout",
     "output_type": "stream",
     "text": [
      "1\n",
      "2\n",
      "4\n",
      "5\n",
      "7\n",
      "8\n",
      "10\n"
     ]
    }
   ],
   "source": [
    "i=1\n",
    "while i<11:\n",
    "    if i%3==0:\n",
    "        pass\n",
    "    else:\n",
    "        print(i)\n",
    "    i+=1"
   ]
  },
  {
   "cell_type": "code",
   "execution_count": 33,
   "metadata": {},
   "outputs": [
    {
     "name": "stdout",
     "output_type": "stream",
     "text": [
      "1\n",
      "2\n",
      "4\n",
      "5\n",
      "7\n",
      "8\n",
      "10\n"
     ]
    }
   ],
   "source": [
    "for i in range(1,11):\n",
    "    if i%3==0:\n",
    "        pass\n",
    "    else:\n",
    "        print(i)\n"
   ]
  },
  {
   "cell_type": "code",
   "execution_count": 49,
   "metadata": {},
   "outputs": [],
   "source": [
    "from numpy import *"
   ]
  },
  {
   "cell_type": "code",
   "execution_count": 53,
   "metadata": {},
   "outputs": [
    {
     "name": "stdout",
     "output_type": "stream",
     "text": [
      "[ 1  4 55  6]\n"
     ]
    }
   ],
   "source": [
    "arr=array([1,4,55,6])\n",
    "print(arr)"
   ]
  },
  {
   "cell_type": "code",
   "execution_count": 54,
   "metadata": {},
   "outputs": [
    {
     "data": {
      "text/plain": [
       "dtype('int32')"
      ]
     },
     "execution_count": 54,
     "metadata": {},
     "output_type": "execute_result"
    }
   ],
   "source": [
    "arr.dtype"
   ]
  },
  {
   "cell_type": "code",
   "execution_count": 57,
   "metadata": {},
   "outputs": [
    {
     "name": "stdout",
     "output_type": "stream",
     "text": [
      "int32\n",
      "[1 3 4 5]\n"
     ]
    }
   ],
   "source": [
    "arr=array([1.8,3,4,5],int)\n",
    "print(arr.dtype)\n",
    "print(arr)"
   ]
  },
  {
   "cell_type": "code",
   "execution_count": null,
   "metadata": {},
   "outputs": [],
   "source": [
    "ar=linspace(0,16,10)\n",
    "print(a)"
   ]
  }
 ],
 "metadata": {
  "kernelspec": {
   "display_name": "Python 3",
   "language": "python",
   "name": "python3"
  },
  "language_info": {
   "codemirror_mode": {
    "name": "ipython",
    "version": 3
   },
   "file_extension": ".py",
   "mimetype": "text/x-python",
   "name": "python",
   "nbconvert_exporter": "python",
   "pygments_lexer": "ipython3",
   "version": "3.7.6"
  }
 },
 "nbformat": 4,
 "nbformat_minor": 4
}
