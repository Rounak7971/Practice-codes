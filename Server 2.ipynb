{
 "cells": [
  {
   "cell_type": "code",
   "execution_count": null,
   "metadata": {},
   "outputs": [
    {
     "name": "stdout",
     "output_type": "stream",
     "text": [
      "Socket created\n",
      "Waiting for connection\n",
      "Connected with ('127.0.0.1', 54361) Naryani\n",
      "Connected with ('127.0.0.1', 54443) Naryani\n"
     ]
    }
   ],
   "source": [
    "import socket\n",
    "s=socket.socket()\n",
    "print('Socket created')\n",
    "s.bind(('localhost',9998))\n",
    "s.listen(3)\n",
    "print('Waiting for connection')\n",
    "\n",
    "while True:\n",
    "    c1,addr=s.accept()\n",
    "    lastname=c1.recv(1024).decode()\n",
    "    print('Connected with',addr,lastname)\n",
    "    c1.send(bytes('Welcome to python','utf-8'))\n",
    "    c1.close()"
   ]
  },
  {
   "cell_type": "code",
   "execution_count": null,
   "metadata": {},
   "outputs": [],
   "source": []
  }
 ],
 "metadata": {
  "kernelspec": {
   "display_name": "Python 3",
   "language": "python",
   "name": "python3"
  },
  "language_info": {
   "codemirror_mode": {
    "name": "ipython",
    "version": 3
   },
   "file_extension": ".py",
   "mimetype": "text/x-python",
   "name": "python",
   "nbconvert_exporter": "python",
   "pygments_lexer": "ipython3",
   "version": "3.7.6"
  }
 },
 "nbformat": 4,
 "nbformat_minor": 4
}
