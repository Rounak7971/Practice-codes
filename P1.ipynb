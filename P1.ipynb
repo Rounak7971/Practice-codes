{
 "cells": [
  {
   "cell_type": "code",
   "execution_count": 1,
   "metadata": {},
   "outputs": [
    {
     "data": {
      "text/plain": [
       "3"
      ]
     },
     "execution_count": 1,
     "metadata": {},
     "output_type": "execute_result"
    }
   ],
   "source": [
    "1+2"
   ]
  },
  {
   "cell_type": "code",
   "execution_count": 2,
   "metadata": {},
   "outputs": [
    {
     "data": {
      "text/plain": [
       "5"
      ]
     },
     "execution_count": 2,
     "metadata": {},
     "output_type": "execute_result"
    }
   ],
   "source": [
    "x=2\n",
    "y=3\n",
    "x+y"
   ]
  },
  {
   "cell_type": "code",
   "execution_count": 3,
   "metadata": {},
   "outputs": [
    {
     "data": {
      "text/plain": [
       "2"
      ]
     },
     "execution_count": 3,
     "metadata": {},
     "output_type": "execute_result"
    }
   ],
   "source": [
    "x"
   ]
  },
  {
   "cell_type": "code",
   "execution_count": 4,
   "metadata": {},
   "outputs": [
    {
     "data": {
      "text/plain": [
       "-3"
      ]
     },
     "execution_count": 4,
     "metadata": {},
     "output_type": "execute_result"
    }
   ],
   "source": [
    "def addition_of_numbers(x,y):\n",
    "    return(x-y)\n",
    "addition_of_numbers(5,8)\n"
   ]
  },
  {
   "cell_type": "code",
   "execution_count": 5,
   "metadata": {},
   "outputs": [
    {
     "data": {
      "text/plain": [
       "10"
      ]
     },
     "execution_count": 5,
     "metadata": {},
     "output_type": "execute_result"
    }
   ],
   "source": [
    "def addition_of_numbers(x,y,z=None):\n",
    "    if(z==None):\n",
    "        return x+y\n",
    "    else: return x+y+z\n",
    "addition_of_numbers(2,3,5)\n"
   ]
  },
  {
   "cell_type": "code",
   "execution_count": 6,
   "metadata": {},
   "outputs": [
    {
     "data": {
      "text/plain": [
       "5"
      ]
     },
     "execution_count": 6,
     "metadata": {},
     "output_type": "execute_result"
    }
   ],
   "source": [
    "addition_of_numbers(2,3)"
   ]
  },
  {
   "cell_type": "code",
   "execution_count": 7,
   "metadata": {},
   "outputs": [
    {
     "name": "stdout",
     "output_type": "stream",
     "text": [
      "5\n"
     ]
    }
   ],
   "source": [
    "print(addition_of_numbers(2,3))"
   ]
  },
  {
   "cell_type": "code",
   "execution_count": 8,
   "metadata": {},
   "outputs": [
    {
     "data": {
      "text/plain": [
       "6"
      ]
     },
     "execution_count": 8,
     "metadata": {},
     "output_type": "execute_result"
    }
   ],
   "source": [
    "def operation(x,y,z=None,Operand=''):\n",
    "    if(Operand=='add'):\n",
    "        return(x+y+z)\n",
    "    else:\n",
    "        return x-y-z\n",
    "operation(1,2,3,Operand='add')"
   ]
  },
  {
   "cell_type": "code",
   "execution_count": 9,
   "metadata": {},
   "outputs": [
    {
     "name": "stdout",
     "output_type": "stream",
     "text": [
      "Addition\n",
      "11\n"
     ]
    }
   ],
   "source": [
    "def maths(a,b,c=None,operation=''):\n",
    "    if(c==None):\n",
    "        if(operation=='add'):\n",
    "            print('Addition')\n",
    "            return (a+b)\n",
    "        if(operation=='subtract'):\n",
    "            return a-b\n",
    "        if(operation=='multiply'):\n",
    "            return a*b\n",
    "        if(operation=='divide'):\n",
    "            return a/b\n",
    "        else:\n",
    "            print('INVALID')\n",
    "    else:\n",
    "        if(operation=='add'):\n",
    "            print('Addition')\n",
    "            return (a+b+c)\n",
    "        if(operation=='subtract'):\n",
    "            return a-b-c\n",
    "        if(operation=='multiply'):\n",
    "            return a*b*c\n",
    "        if(opeartion=='divide'):\n",
    "            return a/b/c\n",
    "        else:\n",
    "            print('INVALID')\n",
    "print(maths(1,10,operation='add'))"
   ]
  },
  {
   "cell_type": "code",
   "execution_count": 10,
   "metadata": {},
   "outputs": [
    {
     "name": "stdout",
     "output_type": "stream",
     "text": [
      "Addition\n"
     ]
    },
    {
     "data": {
      "text/plain": [
       "6"
      ]
     },
     "execution_count": 10,
     "metadata": {},
     "output_type": "execute_result"
    }
   ],
   "source": [
    "maths(1,2,3,operation='add')"
   ]
  },
  {
   "cell_type": "code",
   "execution_count": 11,
   "metadata": {},
   "outputs": [
    {
     "data": {
      "text/plain": [
       "function"
      ]
     },
     "execution_count": 11,
     "metadata": {},
     "output_type": "execute_result"
    }
   ],
   "source": [
    "type(addition_of_numbers)"
   ]
  },
  {
   "cell_type": "code",
   "execution_count": 12,
   "metadata": {},
   "outputs": [
    {
     "data": {
      "text/plain": [
       "int"
      ]
     },
     "execution_count": 12,
     "metadata": {},
     "output_type": "execute_result"
    }
   ],
   "source": [
    "type(1)"
   ]
  },
  {
   "cell_type": "code",
   "execution_count": 13,
   "metadata": {},
   "outputs": [
    {
     "data": {
      "text/plain": [
       "float"
      ]
     },
     "execution_count": 13,
     "metadata": {},
     "output_type": "execute_result"
    }
   ],
   "source": [
    "type(1.555555)"
   ]
  },
  {
   "cell_type": "code",
   "execution_count": 14,
   "metadata": {},
   "outputs": [
    {
     "data": {
      "text/plain": [
       "function"
      ]
     },
     "execution_count": 14,
     "metadata": {},
     "output_type": "execute_result"
    }
   ],
   "source": [
    "type(maths)"
   ]
  },
  {
   "cell_type": "code",
   "execution_count": 15,
   "metadata": {},
   "outputs": [
    {
     "data": {
      "text/plain": [
       "tuple"
      ]
     },
     "execution_count": 15,
     "metadata": {},
     "output_type": "execute_result"
    }
   ],
   "source": [
    "x=(1,'a',2,'b')\n",
    "type(x)\n",
    "\n"
   ]
  },
  {
   "cell_type": "code",
   "execution_count": 16,
   "metadata": {},
   "outputs": [
    {
     "data": {
      "text/plain": [
       "list"
      ]
     },
     "execution_count": 16,
     "metadata": {},
     "output_type": "execute_result"
    }
   ],
   "source": [
    "y=[1,'a',2,'c']\n",
    "type(y)"
   ]
  },
  {
   "cell_type": "code",
   "execution_count": 17,
   "metadata": {},
   "outputs": [
    {
     "name": "stdout",
     "output_type": "stream",
     "text": [
      "[1, 'a', 2, 'c', 'd']\n"
     ]
    }
   ],
   "source": [
    "y.append('d')\n",
    "print(y)"
   ]
  },
  {
   "cell_type": "code",
   "execution_count": 18,
   "metadata": {},
   "outputs": [
    {
     "name": "stdout",
     "output_type": "stream",
     "text": [
      "1\n",
      "a\n",
      "2\n",
      "b\n"
     ]
    }
   ],
   "source": [
    "for item in x:\n",
    "    print(item)"
   ]
  },
  {
   "cell_type": "code",
   "execution_count": 19,
   "metadata": {},
   "outputs": [
    {
     "name": "stdout",
     "output_type": "stream",
     "text": [
      "1\n",
      "a\n",
      "2\n",
      "b\n"
     ]
    }
   ],
   "source": [
    "i=0\n",
    "while(i!=len(x)):\n",
    "    print(x[i])\n",
    "    i+=1"
   ]
  },
  {
   "cell_type": "code",
   "execution_count": 20,
   "metadata": {},
   "outputs": [
    {
     "name": "stdout",
     "output_type": "stream",
     "text": [
      "1\n",
      "a\n",
      "2\n",
      "b\n"
     ]
    }
   ],
   "source": [
    "for item in x:\n",
    "    print(item)"
   ]
  },
  {
   "cell_type": "code",
   "execution_count": 21,
   "metadata": {},
   "outputs": [
    {
     "data": {
      "text/plain": [
       "[1, 2, 3, 4]"
      ]
     },
     "execution_count": 21,
     "metadata": {},
     "output_type": "execute_result"
    }
   ],
   "source": [
    "[1,2]+[3,4]"
   ]
  },
  {
   "cell_type": "code",
   "execution_count": 22,
   "metadata": {},
   "outputs": [
    {
     "data": {
      "text/plain": [
       "[1, 2, 1, 2, 1, 2]"
      ]
     },
     "execution_count": 22,
     "metadata": {},
     "output_type": "execute_result"
    }
   ],
   "source": [
    "[1,2]*3"
   ]
  },
  {
   "cell_type": "code",
   "execution_count": 23,
   "metadata": {},
   "outputs": [
    {
     "data": {
      "text/plain": [
       "True"
      ]
     },
     "execution_count": 23,
     "metadata": {},
     "output_type": "execute_result"
    }
   ],
   "source": [
    "1 in x"
   ]
  },
  {
   "cell_type": "code",
   "execution_count": 24,
   "metadata": {},
   "outputs": [
    {
     "name": "stdout",
     "output_type": "stream",
     "text": [
      "T\n",
      "h\n",
      "T\n",
      "Th\n",
      "This is \n"
     ]
    }
   ],
   "source": [
    "x='This is a string'\n",
    "print(x[0])\n",
    "print(x[1])\n",
    "print(x[0:1])\n",
    "print(x[0:2])\n",
    "print (x[0:8])"
   ]
  },
  {
   "cell_type": "code",
   "execution_count": 25,
   "metadata": {},
   "outputs": [
    {
     "data": {
      "text/plain": [
       "'ri'"
      ]
     },
     "execution_count": 25,
     "metadata": {},
     "output_type": "execute_result"
    }
   ],
   "source": [
    "x[-4:-2]"
   ]
  },
  {
   "cell_type": "code",
   "execution_count": 26,
   "metadata": {},
   "outputs": [
    {
     "data": {
      "text/plain": [
       "'This'"
      ]
     },
     "execution_count": 26,
     "metadata": {},
     "output_type": "execute_result"
    }
   ],
   "source": [
    "x[:4]"
   ]
  },
  {
   "cell_type": "code",
   "execution_count": 27,
   "metadata": {},
   "outputs": [
    {
     "data": {
      "text/plain": [
       "'This is a string'"
      ]
     },
     "execution_count": 27,
     "metadata": {},
     "output_type": "execute_result"
    }
   ],
   "source": [
    "x[0:]"
   ]
  },
  {
   "cell_type": "code",
   "execution_count": 28,
   "metadata": {},
   "outputs": [
    {
     "data": {
      "text/plain": [
       "'D'"
      ]
     },
     "execution_count": 28,
     "metadata": {},
     "output_type": "execute_result"
    }
   ],
   "source": [
    "y=\"Dr.Christopher Brooks\"\n",
    "y[0]"
   ]
  },
  {
   "cell_type": "code",
   "execution_count": 29,
   "metadata": {},
   "outputs": [
    {
     "data": {
      "text/plain": [
       "'Christopher'"
      ]
     },
     "execution_count": 29,
     "metadata": {},
     "output_type": "execute_result"
    }
   ],
   "source": [
    "y[3:14]"
   ]
  },
  {
   "cell_type": "code",
   "execution_count": 30,
   "metadata": {},
   "outputs": [
    {
     "name": "stdout",
     "output_type": "stream",
     "text": [
      "Rouank Naryani\n"
     ]
    }
   ],
   "source": [
    "firstname='Rouank'\n",
    "lastname='Naryani'\n",
    "print(firstname+' '+lastname)"
   ]
  },
  {
   "cell_type": "code",
   "execution_count": 31,
   "metadata": {},
   "outputs": [
    {
     "name": "stdout",
     "output_type": "stream",
     "text": [
      "RouankRouankRouank\n"
     ]
    }
   ],
   "source": [
    "print(firstname*3)"
   ]
  },
  {
   "cell_type": "code",
   "execution_count": null,
   "metadata": {},
   "outputs": [],
   "source": []
  },
  {
   "cell_type": "code",
   "execution_count": 32,
   "metadata": {},
   "outputs": [
    {
     "name": "stdout",
     "output_type": "stream",
     "text": [
      "Rouank NaryaniRouank NaryaniRouank Naryani\n"
     ]
    }
   ],
   "source": [
    "print((firstname+' '+lastname)*3)"
   ]
  },
  {
   "cell_type": "code",
   "execution_count": 33,
   "metadata": {},
   "outputs": [
    {
     "data": {
      "text/plain": [
       "True"
      ]
     },
     "execution_count": 33,
     "metadata": {},
     "output_type": "execute_result"
    }
   ],
   "source": [
    "'R' in firstname"
   ]
  },
  {
   "cell_type": "code",
   "execution_count": 34,
   "metadata": {},
   "outputs": [
    {
     "data": {
      "text/plain": [
       "False"
      ]
     },
     "execution_count": 34,
     "metadata": {},
     "output_type": "execute_result"
    }
   ],
   "source": [
    "'Rounak' in firstname"
   ]
  },
  {
   "cell_type": "code",
   "execution_count": 35,
   "metadata": {},
   "outputs": [
    {
     "data": {
      "text/plain": [
       "True"
      ]
     },
     "execution_count": 35,
     "metadata": {},
     "output_type": "execute_result"
    }
   ],
   "source": [
    "'Rouank'in firstname"
   ]
  },
  {
   "cell_type": "code",
   "execution_count": 36,
   "metadata": {},
   "outputs": [
    {
     "name": "stdout",
     "output_type": "stream",
     "text": [
      "Rounak\n"
     ]
    }
   ],
   "source": [
    "\n",
    "name='Rounak Vinod Naryani'.split(' ')[0]\n",
    "print(name)"
   ]
  },
  {
   "cell_type": "code",
   "execution_count": 37,
   "metadata": {},
   "outputs": [
    {
     "name": "stdout",
     "output_type": "stream",
     "text": [
      "Technology\n"
     ]
    }
   ],
   "source": [
    "collegename='Institute of Chemical Technology'.split(' ')[3]\n",
    "print(collegename)"
   ]
  },
  {
   "cell_type": "code",
   "execution_count": 38,
   "metadata": {},
   "outputs": [
    {
     "name": "stdout",
     "output_type": "stream",
     "text": [
      "Institute\n"
     ]
    }
   ],
   "source": [
    "college='Institute_of_Chemical_Technology'.split('_')[0]\n",
    "print(college)"
   ]
  },
  {
   "cell_type": "code",
   "execution_count": 39,
   "metadata": {},
   "outputs": [
    {
     "name": "stdout",
     "output_type": "stream",
     "text": [
      "I\n",
      "n\n",
      "s\n",
      "t\n",
      "i\n",
      "t\n",
      "u\n",
      "t\n",
      "e\n"
     ]
    }
   ],
   "source": [
    "for name in college:\n",
    "    print(name)"
   ]
  },
  {
   "cell_type": "code",
   "execution_count": 40,
   "metadata": {},
   "outputs": [
    {
     "name": "stdout",
     "output_type": "stream",
     "text": [
      "T\n",
      "h\n",
      "i\n",
      "s\n",
      " \n",
      "i\n",
      "s\n",
      " \n",
      "a\n",
      " \n",
      "s\n",
      "t\n",
      "r\n",
      "i\n",
      "n\n",
      "g\n"
     ]
    }
   ],
   "source": [
    "for name in x:\n",
    "    print(name)"
   ]
  },
  {
   "cell_type": "code",
   "execution_count": 41,
   "metadata": {},
   "outputs": [
    {
     "name": "stdout",
     "output_type": "stream",
     "text": [
      "rounakv.naryani@gmail.com\n"
     ]
    }
   ],
   "source": [
    "x={'Rounak Naryani':'rounakv.naryani@gmail.com','Gourang Naryani':'g.naryani@gmail.com'}\n",
    "print(x['Rounak Naryani'])"
   ]
  },
  {
   "cell_type": "code",
   "execution_count": 42,
   "metadata": {},
   "outputs": [],
   "source": [
    "x['Kevyn Collins-Thompson'] = None\n",
    "x['Kevyn Collins-Thompson']\n"
   ]
  },
  {
   "cell_type": "code",
   "execution_count": 43,
   "metadata": {},
   "outputs": [
    {
     "name": "stdout",
     "output_type": "stream",
     "text": [
      "Rounak Naryani\n",
      "Gourang Naryani\n",
      "Kevyn Collins-Thompson\n"
     ]
    }
   ],
   "source": [
    "for name in x:\n",
    "    print(name)"
   ]
  },
  {
   "cell_type": "code",
   "execution_count": 44,
   "metadata": {},
   "outputs": [
    {
     "name": "stdout",
     "output_type": "stream",
     "text": [
      "This is a string\n"
     ]
    }
   ],
   "source": [
    "x='This is a string'\n",
    "print(x)"
   ]
  },
  {
   "cell_type": "code",
   "execution_count": 45,
   "metadata": {},
   "outputs": [
    {
     "name": "stdout",
     "output_type": "stream",
     "text": [
      "This is a string\n",
      "This is a string\n",
      "This is a string\n",
      "This is a string\n",
      "This is a string\n",
      "This is a string\n",
      "This is a string\n",
      "This is a string\n",
      "This is a string\n",
      "This is a string\n",
      "This is a string\n",
      "This is a string\n",
      "This is a string\n",
      "This is a string\n",
      "This is a string\n",
      "This is a string\n"
     ]
    }
   ],
   "source": [
    "for name in x:\n",
    "    print(x)"
   ]
  },
  {
   "cell_type": "markdown",
   "metadata": {},
   "source": []
  },
  {
   "cell_type": "code",
   "execution_count": 46,
   "metadata": {},
   "outputs": [
    {
     "name": "stdout",
     "output_type": "stream",
     "text": [
      "T\n",
      "h\n",
      "i\n",
      "s\n",
      " \n",
      "i\n",
      "s\n",
      " \n",
      "a\n",
      " \n",
      "s\n",
      "t\n",
      "r\n",
      "i\n",
      "n\n",
      "g\n"
     ]
    }
   ],
   "source": [
    "for name in x:\n",
    "    print(name)"
   ]
  },
  {
   "cell_type": "code",
   "execution_count": 47,
   "metadata": {},
   "outputs": [
    {
     "name": "stdout",
     "output_type": "stream",
     "text": [
      "rounakv.naryani@gmail.com\n",
      "g.naryani@gmail.com\n"
     ]
    }
   ],
   "source": [
    "x={'Rounak Naryani':'rounakv.naryani@gmail.com','Gourang Naryani':'g.naryani@gmail.com'}\n",
    "for name in x:\n",
    "    print(x[name])"
   ]
  },
  {
   "cell_type": "code",
   "execution_count": 48,
   "metadata": {},
   "outputs": [
    {
     "name": "stdout",
     "output_type": "stream",
     "text": [
      "{'Rounak Naryani': 'rounakv.naryani@gmail.com', 'Gourang Naryani': 'g.naryani@gmail.com', 'Poonam Naryani': None}\n"
     ]
    }
   ],
   "source": [
    "x['Poonam Naryani']=None\n",
    "print(x)"
   ]
  },
  {
   "cell_type": "code",
   "execution_count": 49,
   "metadata": {},
   "outputs": [
    {
     "name": "stdout",
     "output_type": "stream",
     "text": [
      "{'Rounak Naryani': 'rounakv.naryani@gmail.com', 'Gourang Naryani': 'g.naryani@gmail.com', 'Poonam Naryani': None}\n",
      "{'Rounak Naryani': 'rounakv.naryani@gmail.com', 'Gourang Naryani': 'g.naryani@gmail.com', 'Poonam Naryani': None}\n",
      "{'Rounak Naryani': 'rounakv.naryani@gmail.com', 'Gourang Naryani': 'g.naryani@gmail.com', 'Poonam Naryani': None}\n"
     ]
    }
   ],
   "source": [
    "for name in x:\n",
    "    print(x)"
   ]
  },
  {
   "cell_type": "code",
   "execution_count": 50,
   "metadata": {},
   "outputs": [
    {
     "name": "stdout",
     "output_type": "stream",
     "text": [
      "{'Rounak Naryani': 'rounakv.naryani@gmail.com', 'Gourang Naryani': 'g.naryani@gmail.com', 'Poonam Naryani': None}\n",
      "{'Rounak Naryani': 'rounakv.naryani@gmail.com', 'Gourang Naryani': 'g.naryani@gmail.com', 'Poonam Naryani': None}\n",
      "{'Rounak Naryani': 'rounakv.naryani@gmail.com', 'Gourang Naryani': 'g.naryani@gmail.com', 'Poonam Naryani': None}\n"
     ]
    }
   ],
   "source": [
    "for name in x:\n",
    "    print(x)"
   ]
  },
  {
   "cell_type": "code",
   "execution_count": 51,
   "metadata": {},
   "outputs": [
    {
     "name": "stdout",
     "output_type": "stream",
     "text": [
      "{'Rounak Naryani': 'rounakv.naryani@gmail.com', 'Gourang Naryani': 'g.naryani@gmail.com', 'Poonam Naryani': None}\n",
      "{'Rounak Naryani': 'rounakv.naryani@gmail.com', 'Gourang Naryani': 'g.naryani@gmail.com', 'Poonam Naryani': None}\n",
      "{'Rounak Naryani': 'rounakv.naryani@gmail.com', 'Gourang Naryani': 'g.naryani@gmail.com', 'Poonam Naryani': None}\n"
     ]
    }
   ],
   "source": [
    "for n in x:\n",
    "    print(x)"
   ]
  },
  {
   "cell_type": "code",
   "execution_count": 52,
   "metadata": {},
   "outputs": [
    {
     "name": "stdout",
     "output_type": "stream",
     "text": [
      "Rounak Naryani\n",
      "rounakv.naryani@gmail.com\n",
      "Gourang Naryani\n",
      "g.naryani@gmail.com\n",
      "Poonam Naryani\n",
      "None\n"
     ]
    }
   ],
   "source": [
    "for name,email in x.items():\n",
    "    print(name)\n",
    "    print(email)"
   ]
  },
  {
   "cell_type": "code",
   "execution_count": 53,
   "metadata": {},
   "outputs": [
    {
     "name": "stdout",
     "output_type": "stream",
     "text": [
      "rounakv.naryani@gmail.com\n",
      "g.naryani@gmail.com\n",
      "None\n"
     ]
    }
   ],
   "source": [
    "for name in x:\n",
    "    print(x[name])"
   ]
  },
  {
   "cell_type": "code",
   "execution_count": 54,
   "metadata": {},
   "outputs": [
    {
     "data": {
      "text/plain": [
       "'Rounak Naryani'"
      ]
     },
     "execution_count": 54,
     "metadata": {},
     "output_type": "execute_result"
    }
   ],
   "source": [
    "k=('Rounak Naryani','Institute of Chemical Technology','Bachelor of Chemical Engineering')\n",
    "name,college,branch=k\n",
    "name"
   ]
  },
  {
   "cell_type": "code",
   "execution_count": 55,
   "metadata": {},
   "outputs": [
    {
     "name": "stdout",
     "output_type": "stream",
     "text": [
      "M\n",
      "y\n",
      " \n",
      "n\n",
      "a\n",
      "m\n",
      "e\n",
      " \n",
      "i\n",
      "s\n",
      " \n",
      "R\n",
      "o\n",
      "u\n",
      "n\n",
      "a\n",
      "k\n"
     ]
    }
   ],
   "source": [
    "f='My name is Rounak'\n",
    "for name in f:\n",
    "    print(name)"
   ]
  },
  {
   "cell_type": "code",
   "execution_count": 56,
   "metadata": {},
   "outputs": [
    {
     "name": "stdout",
     "output_type": "stream",
     "text": [
      "M\n",
      "y\n",
      " \n",
      "n\n",
      "a\n",
      "m\n",
      "e\n",
      " \n",
      "i\n",
      "s\n",
      " \n",
      "R\n",
      "o\n",
      "u\n",
      "n\n",
      "a\n",
      "k\n"
     ]
    }
   ],
   "source": [
    "i=0\n",
    "while(i!=len(f)):\n",
    "    print(f[i])\n",
    "    i+=1"
   ]
  },
  {
   "cell_type": "code",
   "execution_count": 57,
   "metadata": {},
   "outputs": [
    {
     "name": "stdout",
     "output_type": "stream",
     "text": [
      "Rounak   2\n"
     ]
    }
   ],
   "source": [
    "print('Rounak'+'   2')"
   ]
  },
  {
   "cell_type": "code",
   "execution_count": 58,
   "metadata": {},
   "outputs": [
    {
     "data": {
      "text/plain": [
       "1"
      ]
     },
     "execution_count": 58,
     "metadata": {},
     "output_type": "execute_result"
    }
   ],
   "source": [
    "x=[1,'Rounak Naryani',100]\n",
    "roll_No,Name,Marks=x\n",
    "roll_No"
   ]
  },
  {
   "cell_type": "code",
   "execution_count": 59,
   "metadata": {},
   "outputs": [
    {
     "name": "stdout",
     "output_type": "stream",
     "text": [
      "Rounak Naryani    scored 450 marks in 4 semesters which count to 90.0 percentage in total\n"
     ]
    }
   ],
   "source": [
    "College_record={'Person':'Rounak Naryani','Total':500,'marks':450}\n",
    "result='{}    scored {} marks in 4 semesters which count to {} percentage in total'\n",
    "print(result.format(College_record['Person'],College_record['marks'],College_record['marks']*100/College_record['Total']))"
   ]
  },
  {
   "cell_type": "code",
   "execution_count": 60,
   "metadata": {},
   "outputs": [
    {
     "name": "stdout",
     "output_type": "stream",
     "text": [
      "    Series reference          Period  \\\n",
      "0            2019.09  PPIQ.SQN800000   \n",
      "1            2019.12  PPIQ.SQN800000   \n",
      "2            2019.09  PPIQ.SQN800001   \n",
      "3            2019.12  PPIQ.SQN800001   \n",
      "4            2019.09  PPIQ.SQN900000   \n",
      "..               ...             ...   \n",
      "62           2019.12  PPIQ.SQUCC1300   \n",
      "63           2019.09  PPIQ.SQUCC1310   \n",
      "64           2019.12  PPIQ.SQUCC1310   \n",
      "65           2019.12  PPIQ.SQUCC3200   \n",
      "66           2019.12  PPIQ.SQUCC3210   \n",
      "\n",
      "                                          Description  Revised  \\\n",
      "0   All industries excl admin health educati, Inpu...     1167   \n",
      "1   All industries excl admin health educati, Inpu...     1170   \n",
      "2   All industries ex admin health edu OOD, Inputs...     1167   \n",
      "3   All industries ex admin health edu OOD, Inputs...     1170   \n",
      "4            All industries, Inputs Indexes (Level 0)     1166   \n",
      "..                                                ...      ...   \n",
      "62  Dairy Product Manufacturing, Outputs Indexes (...     1220   \n",
      "63  Dairy Product Manufacturing, Outputs Indexes (...     1243   \n",
      "64  Dairy Product Manufacturing, Outputs Indexes (...     1220   \n",
      "65  Pulp, Paper and Converted Paper Product, Outpu...     1015   \n",
      "66  Pulp, Paper and Converted Paper Product Manufa...     1015   \n",
      "\n",
      "    Initially published  \n",
      "0                  1164  \n",
      "1                  1166  \n",
      "2                  1164  \n",
      "3                  1166  \n",
      "4                  1164  \n",
      "..                  ...  \n",
      "62                 1217  \n",
      "63                 1241  \n",
      "64                 1217  \n",
      "65                 1014  \n",
      "66                 1014  \n",
      "\n",
      "[67 rows x 5 columns]\n"
     ]
    }
   ],
   "source": [
    "import pandas as pd\n",
    "df=pd.read_csv(r'D:\\SampleDb\\sample.csv')\n",
    "print(df)"
   ]
  },
  {
   "cell_type": "code",
   "execution_count": 61,
   "metadata": {},
   "outputs": [
    {
     "data": {
      "text/plain": [
       "[OrderedDict([('Series reference', '2019.09'),\n",
       "              ('Period', 'PPIQ.SQN800000'),\n",
       "              ('Description',\n",
       "               'All industries excl admin health educati, Inputs Indexes (Level 0)'),\n",
       "              ('Revised', '1167'),\n",
       "              ('Initially published', '1164')]),\n",
       " OrderedDict([('Series reference', '2019.12'),\n",
       "              ('Period', 'PPIQ.SQN800000'),\n",
       "              ('Description',\n",
       "               'All industries excl admin health educati, Inputs Indexes (Level 0)'),\n",
       "              ('Revised', '1170'),\n",
       "              ('Initially published', '1166')]),\n",
       " OrderedDict([('Series reference', '2019.09'),\n",
       "              ('Period', 'PPIQ.SQN800001'),\n",
       "              ('Description',\n",
       "               'All industries ex admin health edu OOD, Inputs Indexes (Level 0)'),\n",
       "              ('Revised', '1167'),\n",
       "              ('Initially published', '1164')])]"
      ]
     },
     "execution_count": 61,
     "metadata": {},
     "output_type": "execute_result"
    }
   ],
   "source": [
    "import csv\n",
    "%precision 2\n",
    "with open('D:\\SampleDb\\sample.csv') as csvfile:\n",
    "    data=list(csv.DictReader(csvfile))\n",
    "data[:3]"
   ]
  },
  {
   "cell_type": "code",
   "execution_count": 62,
   "metadata": {},
   "outputs": [
    {
     "data": {
      "text/plain": [
       "[OrderedDict([('Series reference', '2019.09'),\n",
       "              ('Period', 'PPIQ.SQN800000'),\n",
       "              ('Description',\n",
       "               'All industries excl admin health educati, Inputs Indexes (Level 0)'),\n",
       "              ('Revised', '1167'),\n",
       "              ('Initially published', '1164')]),\n",
       " OrderedDict([('Series reference', '2019.12'),\n",
       "              ('Period', 'PPIQ.SQN800000'),\n",
       "              ('Description',\n",
       "               'All industries excl admin health educati, Inputs Indexes (Level 0)'),\n",
       "              ('Revised', '1170'),\n",
       "              ('Initially published', '1166')]),\n",
       " OrderedDict([('Series reference', '2019.09'),\n",
       "              ('Period', 'PPIQ.SQN800001'),\n",
       "              ('Description',\n",
       "               'All industries ex admin health edu OOD, Inputs Indexes (Level 0)'),\n",
       "              ('Revised', '1167'),\n",
       "              ('Initially published', '1164')]),\n",
       " OrderedDict([('Series reference', '2019.12'),\n",
       "              ('Period', 'PPIQ.SQN800001'),\n",
       "              ('Description',\n",
       "               'All industries ex admin health edu OOD, Inputs Indexes (Level 0)'),\n",
       "              ('Revised', '1170'),\n",
       "              ('Initially published', '1166')]),\n",
       " OrderedDict([('Series reference', '2019.09'),\n",
       "              ('Period', 'PPIQ.SQN900000'),\n",
       "              ('Description', 'All industries, Inputs Indexes (Level 0)'),\n",
       "              ('Revised', '1166'),\n",
       "              ('Initially published', '1164')]),\n",
       " OrderedDict([('Series reference', '2019.12'),\n",
       "              ('Period', 'PPIQ.SQN900000'),\n",
       "              ('Description', 'All industries, Inputs Indexes (Level 0)'),\n",
       "              ('Revised', '1169'),\n",
       "              ('Initially published', '1165')]),\n",
       " OrderedDict([('Series reference', '2019.09'),\n",
       "              ('Period', 'PPIQ.SQN900001'),\n",
       "              ('Description',\n",
       "               'All industries excl OOD, Inputs Indexes (Level 0)'),\n",
       "              ('Revised', '1166'),\n",
       "              ('Initially published', '1163')]),\n",
       " OrderedDict([('Series reference', '2019.12'),\n",
       "              ('Period', 'PPIQ.SQN900001'),\n",
       "              ('Description',\n",
       "               'All industries excl OOD, Inputs Indexes (Level 0)'),\n",
       "              ('Revised', '1169'),\n",
       "              ('Initially published', '1165')]),\n",
       " OrderedDict([('Series reference', '2019.12'),\n",
       "              ('Period', 'PPIQ.SQNAA0000'),\n",
       "              ('Description',\n",
       "               'Agriculture, Forestry and Fishing, Inputs Indexes (Level 1)'),\n",
       "              ('Revised', '1207'),\n",
       "              ('Initially published', '1206')]),\n",
       " OrderedDict([('Series reference', '2019.12'),\n",
       "              ('Period', 'PPIQ.SQNAA2000'),\n",
       "              ('Description',\n",
       "               'Forestry and Logging, Inputs Indexes (Level 2)'),\n",
       "              ('Revised', '1217'),\n",
       "              ('Initially published', '1208')]),\n",
       " OrderedDict([('Series reference', '2019.12'),\n",
       "              ('Period', 'PPIQ.SQNAA2100'),\n",
       "              ('Description',\n",
       "               'Forestry and Logging, Inputs Indexes (Level 3)'),\n",
       "              ('Revised', '1217'),\n",
       "              ('Initially published', '1208')]),\n",
       " OrderedDict([('Series reference', '2019.12'),\n",
       "              ('Period', 'PPIQ.SQNAA211X'),\n",
       "              ('Description',\n",
       "               'Forestry and Logging, Inputs Indexes (Level 4)'),\n",
       "              ('Revised', '1217'),\n",
       "              ('Initially published', '1208')]),\n",
       " OrderedDict([('Series reference', '2019.09'),\n",
       "              ('Period', 'PPIQ.SQNCC0000'),\n",
       "              ('Description', 'Manufacturing, Inputs Indexes (Level 1)'),\n",
       "              ('Revised', '1154'),\n",
       "              ('Initially published', '1144')]),\n",
       " OrderedDict([('Series reference', '2019.12'),\n",
       "              ('Period', 'PPIQ.SQNCC0000'),\n",
       "              ('Description', 'Manufacturing, Inputs Indexes (Level 1)'),\n",
       "              ('Revised', '1162'),\n",
       "              ('Initially published', '1149')]),\n",
       " OrderedDict([('Series reference', '2019.09'),\n",
       "              ('Period', 'PPIQ.SQNCC1000'),\n",
       "              ('Description',\n",
       "               'Food, Beverage and Tobacco Product Manuf, Inputs Indexes (Level 2)'),\n",
       "              ('Revised', '1203'),\n",
       "              ('Initially published', '1184')]),\n",
       " OrderedDict([('Series reference', '2019.12'),\n",
       "              ('Period', 'PPIQ.SQNCC1000'),\n",
       "              ('Description',\n",
       "               'Food, Beverage and Tobacco Product Manuf, Inputs Indexes (Level 2)'),\n",
       "              ('Revised', '1232'),\n",
       "              ('Initially published', '1208')]),\n",
       " OrderedDict([('Series reference', '2019.09'),\n",
       "              ('Period', 'PPIQ.SQNCC1300'),\n",
       "              ('Description',\n",
       "               'Dairy Product Manufacturing, Inputs Indexes (Level 3)'),\n",
       "              ('Revised', '1131'),\n",
       "              ('Initially published', '1094')]),\n",
       " OrderedDict([('Series reference', '2019.12'),\n",
       "              ('Period', 'PPIQ.SQNCC1300'),\n",
       "              ('Description',\n",
       "               'Dairy Product Manufacturing, Inputs Indexes (Level 3)'),\n",
       "              ('Revised', '1162'),\n",
       "              ('Initially published', '1116')]),\n",
       " OrderedDict([('Series reference', '2019.09'),\n",
       "              ('Period', 'PPIQ.SQNCC131X'),\n",
       "              ('Description',\n",
       "               'Dairy Product Manufacturing, Inputs Indexes (Level 4)'),\n",
       "              ('Revised', '1131'),\n",
       "              ('Initially published', '1094')]),\n",
       " OrderedDict([('Series reference', '2019.12'),\n",
       "              ('Period', 'PPIQ.SQNCC131X'),\n",
       "              ('Description',\n",
       "               'Dairy Product Manufacturing, Inputs Indexes (Level 4)'),\n",
       "              ('Revised', '1162'),\n",
       "              ('Initially published', '1116')]),\n",
       " OrderedDict([('Series reference', '2019.12'),\n",
       "              ('Period', 'PPIQ.SQNCC1400'),\n",
       "              ('Description',\n",
       "               'Fruit, Oil, Cereal and Other Food Produc, Inputs Indexes (Level 3)'),\n",
       "              ('Revised', '1138'),\n",
       "              ('Initially published', '1137')]),\n",
       " OrderedDict([('Series reference', '2019.12'),\n",
       "              ('Period', 'PPIQ.SQNCC141X'),\n",
       "              ('Description',\n",
       "               'Fruit, Oil, Cereal and Other Food Product Manufact, Inputs Indexes (Level 4)'),\n",
       "              ('Revised', '1138'),\n",
       "              ('Initially published', '1137')]),\n",
       " OrderedDict([('Series reference', '2019.12'),\n",
       "              ('Period', 'PPIQ.SQNCC3000'),\n",
       "              ('Description',\n",
       "               'Wood and Paper Products Manufacturing, Inputs Indexes (Level 2)'),\n",
       "              ('Revised', '1150'),\n",
       "              ('Initially published', '1139')]),\n",
       " OrderedDict([('Series reference', '2019.12'),\n",
       "              ('Period', 'PPIQ.SQNCC3100'),\n",
       "              ('Description',\n",
       "               'Wood Product Manufacturing, Inputs Indexes (Level 3)'),\n",
       "              ('Revised', '1179'),\n",
       "              ('Initially published', '1166')]),\n",
       " OrderedDict([('Series reference', '2019.12'),\n",
       "              ('Period', 'PPIQ.SQNCC311X'),\n",
       "              ('Description',\n",
       "               'Wood Product Manufacturing, Inputs Indexes (Level 4)'),\n",
       "              ('Revised', '1179'),\n",
       "              ('Initially published', '1166')]),\n",
       " OrderedDict([('Series reference', '2019.12'),\n",
       "              ('Period', 'PPIQ.SQNCC3200'),\n",
       "              ('Description',\n",
       "               'Pulp, Paper and Converted Paper Product, Inputs Indexes (Level 3)'),\n",
       "              ('Revised', '1108'),\n",
       "              ('Initially published', '1100')]),\n",
       " OrderedDict([('Series reference', '2019.12'),\n",
       "              ('Period', 'PPIQ.SQNCC321X'),\n",
       "              ('Description',\n",
       "               'Pulp, Paper and Converted Paper Product Manufactur, Inputs Indexes (Level 4)'),\n",
       "              ('Revised', '1108'),\n",
       "              ('Initially published', '1100')]),\n",
       " OrderedDict([('Series reference', '2019.09'),\n",
       "              ('Period', 'PPIQ.SQU900000'),\n",
       "              ('Description', 'All industries, Outputs Indexes (Level 0)'),\n",
       "              ('Revised', '1179'),\n",
       "              ('Initially published', '1178')]),\n",
       " OrderedDict([('Series reference', '2019.12'),\n",
       "              ('Period', 'PPIQ.SQU900000'),\n",
       "              ('Description', 'All industries, Outputs Indexes (Level 0)'),\n",
       "              ('Revised', '1185'),\n",
       "              ('Initially published', '1183')]),\n",
       " OrderedDict([('Series reference', '2019.09'),\n",
       "              ('Period', 'PPIQ.SQU900001'),\n",
       "              ('Description',\n",
       "               'All industries excl OOD, Outputs Indexes (Level 0)'),\n",
       "              ('Revised', '1178'),\n",
       "              ('Initially published', '1176')]),\n",
       " OrderedDict([('Series reference', '2019.12'),\n",
       "              ('Period', 'PPIQ.SQU900001'),\n",
       "              ('Description',\n",
       "               'All industries excl OOD, Outputs Indexes (Level 0)'),\n",
       "              ('Revised', '1184'),\n",
       "              ('Initially published', '1181')]),\n",
       " OrderedDict([('Series reference', '2019.09'),\n",
       "              ('Period', 'PPIQ.SQUAA0000'),\n",
       "              ('Description',\n",
       "               'Agriculture, Forestry and Fishing, Outputs Indexes (Level 1)'),\n",
       "              ('Revised', '1287'),\n",
       "              ('Initially published', '1268')]),\n",
       " OrderedDict([('Series reference', '2019.12'),\n",
       "              ('Period', 'PPIQ.SQUAA0000'),\n",
       "              ('Description',\n",
       "               'Agriculture, Forestry and Fishing, Outputs Indexes (Level 1)'),\n",
       "              ('Revised', '1318'),\n",
       "              ('Initially published', '1290')]),\n",
       " OrderedDict([('Series reference', '2019.09'),\n",
       "              ('Period', 'PPIQ.SQUAA1000'),\n",
       "              ('Description', 'Agriculture, Outputs Indexes (Level 2)'),\n",
       "              ('Revised', '1298'),\n",
       "              ('Initially published', '1273')]),\n",
       " OrderedDict([('Series reference', '2019.12'),\n",
       "              ('Period', 'PPIQ.SQUAA1000'),\n",
       "              ('Description', 'Agriculture, Outputs Indexes (Level 2)'),\n",
       "              ('Revised', '1336'),\n",
       "              ('Initially published', '1305')]),\n",
       " OrderedDict([('Series reference', '2019.09'),\n",
       "              ('Period', 'PPIQ.SQUAA1100'),\n",
       "              ('Description',\n",
       "               'Horticulture and Fruit Growing, Outputs Indexes (Level 3)'),\n",
       "              ('Revised', '1251'),\n",
       "              ('Initially published', '1250')]),\n",
       " OrderedDict([('Series reference', '2019.12'),\n",
       "              ('Period', 'PPIQ.SQUAA1100'),\n",
       "              ('Description',\n",
       "               'Horticulture and Fruit Growing, Outputs Indexes (Level 3)'),\n",
       "              ('Revised', '1237'),\n",
       "              ('Initially published', '1236')]),\n",
       " OrderedDict([('Series reference', '2019.09'),\n",
       "              ('Period', 'PPIQ.SQUAA1110'),\n",
       "              ('Description',\n",
       "               'Horticulture and Fruit Growing, Outputs Indexes (Level 4)'),\n",
       "              ('Revised', '1251'),\n",
       "              ('Initially published', '1250')]),\n",
       " OrderedDict([('Series reference', '2019.12'),\n",
       "              ('Period', 'PPIQ.SQUAA1110'),\n",
       "              ('Description',\n",
       "               'Horticulture and Fruit Growing, Outputs Indexes (Level 4)'),\n",
       "              ('Revised', '1237'),\n",
       "              ('Initially published', '1236')]),\n",
       " OrderedDict([('Series reference', '2019.09'),\n",
       "              ('Period', 'PPIQ.SQUAA1200'),\n",
       "              ('Description',\n",
       "               'Sheep, Beef Cattle and Grain Farming, Outputs Indexes (Level 3)'),\n",
       "              ('Revised', '1545'),\n",
       "              ('Initially published', '1541')]),\n",
       " OrderedDict([('Series reference', '2019.12'),\n",
       "              ('Period', 'PPIQ.SQUAA1200'),\n",
       "              ('Description',\n",
       "               'Sheep, Beef Cattle and Grain Farming, Outputs Indexes (Level 3)'),\n",
       "              ('Revised', '1613'),\n",
       "              ('Initially published', '1608')]),\n",
       " OrderedDict([('Series reference', '2019.09'),\n",
       "              ('Period', 'PPIQ.SQUAA1210'),\n",
       "              ('Description',\n",
       "               'Sheep, Beef Cattle and Grain Farming, Outputs Indexes (Level 4)'),\n",
       "              ('Revised', '1545'),\n",
       "              ('Initially published', '1541')]),\n",
       " OrderedDict([('Series reference', '2019.12'),\n",
       "              ('Period', 'PPIQ.SQUAA1210'),\n",
       "              ('Description',\n",
       "               'Sheep, Beef Cattle and Grain Farming, Outputs Indexes (Level 4)'),\n",
       "              ('Revised', '1613'),\n",
       "              ('Initially published', '1608')]),\n",
       " OrderedDict([('Series reference', '2019.09'),\n",
       "              ('Period', 'PPIQ.SQUAA1300'),\n",
       "              ('Description',\n",
       "               'Dairy Cattle Farming, Outputs Indexes (Level 3)'),\n",
       "              ('Revised', '1061'),\n",
       "              ('Initially published', '1019')]),\n",
       " OrderedDict([('Series reference', '2019.12'),\n",
       "              ('Period', 'PPIQ.SQUAA1300'),\n",
       "              ('Description',\n",
       "               'Dairy Cattle Farming, Outputs Indexes (Level 3)'),\n",
       "              ('Revised', '1101'),\n",
       "              ('Initially published', '1048')]),\n",
       " OrderedDict([('Series reference', '2019.09'),\n",
       "              ('Period', 'PPIQ.SQUAA1310'),\n",
       "              ('Description',\n",
       "               'Dairy Cattle Farming, Outputs Indexes (Level 4)'),\n",
       "              ('Revised', '1061'),\n",
       "              ('Initially published', '1019')]),\n",
       " OrderedDict([('Series reference', '2019.12'),\n",
       "              ('Period', 'PPIQ.SQUAA1310'),\n",
       "              ('Description',\n",
       "               'Dairy Cattle Farming, Outputs Indexes (Level 4)'),\n",
       "              ('Revised', '1101'),\n",
       "              ('Initially published', '1048')]),\n",
       " OrderedDict([('Series reference', '2019.09'),\n",
       "              ('Period', 'PPIQ.SQUAA1400'),\n",
       "              ('Description',\n",
       "               'Poultry, Deer and Other Livestock Farmin, Outputs Indexes (Level 3)'),\n",
       "              ('Revised', '1284'),\n",
       "              ('Initially published', '1281')]),\n",
       " OrderedDict([('Series reference', '2019.12'),\n",
       "              ('Period', 'PPIQ.SQUAA1400'),\n",
       "              ('Description',\n",
       "               'Poultry, Deer and Other Livestock Farmin, Outputs Indexes (Level 3)'),\n",
       "              ('Revised', '1293'),\n",
       "              ('Initially published', '1289')]),\n",
       " OrderedDict([('Series reference', '2019.09'),\n",
       "              ('Period', 'PPIQ.SQUAA1410'),\n",
       "              ('Description',\n",
       "               'Poultry, Deer and Other Livestock Farming, Outputs Indexes (Level 4)'),\n",
       "              ('Revised', '1284'),\n",
       "              ('Initially published', '1281')]),\n",
       " OrderedDict([('Series reference', '2019.12'),\n",
       "              ('Period', 'PPIQ.SQUAA1410'),\n",
       "              ('Description',\n",
       "               'Poultry, Deer and Other Livestock Farming, Outputs Indexes (Level 4)'),\n",
       "              ('Revised', '1293'),\n",
       "              ('Initially published', '1289')]),\n",
       " OrderedDict([('Series reference', '2019.12'),\n",
       "              ('Period', 'PPIQ.SQUAA2000'),\n",
       "              ('Description',\n",
       "               'Forestry and Logging, Outputs Indexes (Level 2)'),\n",
       "              ('Revised', '1218'),\n",
       "              ('Initially published', '1184')]),\n",
       " OrderedDict([('Series reference', '2019.12'),\n",
       "              ('Period', 'PPIQ.SQUAA2100'),\n",
       "              ('Description',\n",
       "               'Forestry and Logging, Outputs Indexes (Level 3)'),\n",
       "              ('Revised', '1218'),\n",
       "              ('Initially published', '1184')]),\n",
       " OrderedDict([('Series reference', '2019.12'),\n",
       "              ('Period', 'PPIQ.SQUAA2110'),\n",
       "              ('Description',\n",
       "               'Forestry and Logging, Outputs Indexes (Level 4)'),\n",
       "              ('Revised', '1218'),\n",
       "              ('Initially published', '1184')]),\n",
       " OrderedDict([('Series reference', '2019.09'),\n",
       "              ('Period', 'PPIQ.SQUAA3000'),\n",
       "              ('Description',\n",
       "               'Fishing, Aquaculture and Agriculture, Fo, Outputs Indexes (Level 2)'),\n",
       "              ('Revised', '1250'),\n",
       "              ('Initially published', '1249')]),\n",
       " OrderedDict([('Series reference', '2019.12'),\n",
       "              ('Period', 'PPIQ.SQUAA3220'),\n",
       "              ('Description',\n",
       "               'Agriculture, Forestry and Fishing Support Services, Outputs Indexes (Level 4)'),\n",
       "              ('Revised', '1245'),\n",
       "              ('Initially published', '1244')]),\n",
       " OrderedDict([('Series reference', '2019.12'),\n",
       "              ('Period', 'PPIQ.SQUC03210'),\n",
       "              ('Description',\n",
       "               'Logs for domestic market, LPT PPI - NA06CC higher level commodity indexes'),\n",
       "              ('Revised', '1459'),\n",
       "              ('Initially published', '1399')]),\n",
       " OrderedDict([('Series reference', '2019.12'),\n",
       "              ('Period', 'PPIQ.SQUC03220'),\n",
       "              ('Description',\n",
       "               'Logs for export market, LPT PPI - NA06CC higher level commodity indexes'),\n",
       "              ('Revised', '1429'),\n",
       "              ('Initially published', '1395')]),\n",
       " OrderedDict([('Series reference', '2019.12'),\n",
       "              ('Period', 'PPIQ.SQUCC0000'),\n",
       "              ('Description', 'Manufacturing, Outputs Indexes (Level 1)'),\n",
       "              ('Revised', '1166'),\n",
       "              ('Initially published', '1165')]),\n",
       " OrderedDict([('Series reference', '2019.09'),\n",
       "              ('Period', 'PPIQ.SQUCC1000'),\n",
       "              ('Description',\n",
       "               'Food, Beverage and Tobacco Product Manuf, Outputs Indexes (Level 2)'),\n",
       "              ('Revised', '1258'),\n",
       "              ('Initially published', '1257')]),\n",
       " OrderedDict([('Series reference', '2019.12'),\n",
       "              ('Period', 'PPIQ.SQUCC1000'),\n",
       "              ('Description',\n",
       "               'Food, Beverage and Tobacco Product Manuf, Outputs Indexes (Level 2)'),\n",
       "              ('Revised', '1264'),\n",
       "              ('Initially published', '1262')]),\n",
       " OrderedDict([('Series reference', '2019.09'),\n",
       "              ('Period', 'PPIQ.SQUCC1300'),\n",
       "              ('Description',\n",
       "               'Dairy Product Manufacturing, Outputs Indexes (Level 3)'),\n",
       "              ('Revised', '1243'),\n",
       "              ('Initially published', '1241')]),\n",
       " OrderedDict([('Series reference', '2019.12'),\n",
       "              ('Period', 'PPIQ.SQUCC1300'),\n",
       "              ('Description',\n",
       "               'Dairy Product Manufacturing, Outputs Indexes (Level 3)'),\n",
       "              ('Revised', '1220'),\n",
       "              ('Initially published', '1217')]),\n",
       " OrderedDict([('Series reference', '2019.09'),\n",
       "              ('Period', 'PPIQ.SQUCC1310'),\n",
       "              ('Description',\n",
       "               'Dairy Product Manufacturing, Outputs Indexes (Level 4)'),\n",
       "              ('Revised', '1243'),\n",
       "              ('Initially published', '1241')]),\n",
       " OrderedDict([('Series reference', '2019.12'),\n",
       "              ('Period', 'PPIQ.SQUCC1310'),\n",
       "              ('Description',\n",
       "               'Dairy Product Manufacturing, Outputs Indexes (Level 4)'),\n",
       "              ('Revised', '1220'),\n",
       "              ('Initially published', '1217')]),\n",
       " OrderedDict([('Series reference', '2019.12'),\n",
       "              ('Period', 'PPIQ.SQUCC3200'),\n",
       "              ('Description',\n",
       "               'Pulp, Paper and Converted Paper Product, Outputs Indexes (Level 3)'),\n",
       "              ('Revised', '1015'),\n",
       "              ('Initially published', '1014')]),\n",
       " OrderedDict([('Series reference', '2019.12'),\n",
       "              ('Period', 'PPIQ.SQUCC3210'),\n",
       "              ('Description',\n",
       "               'Pulp, Paper and Converted Paper Product Manufactur, Outputs Indexes (Level 4)'),\n",
       "              ('Revised', '1015'),\n",
       "              ('Initially published', '1014')])]"
      ]
     },
     "execution_count": 62,
     "metadata": {},
     "output_type": "execute_result"
    }
   ],
   "source": [
    "import csv\n",
    "%precision 2\n",
    "with open('D:\\SampleDb\\sample.csv') as csvfile:\n",
    "    df=list(csv.DictReader(csvfile))\n",
    "df"
   ]
  },
  {
   "cell_type": "code",
   "execution_count": 63,
   "metadata": {},
   "outputs": [
    {
     "ename": "TypeError",
     "evalue": "object of type '_io.TextIOWrapper' has no len()",
     "output_type": "error",
     "traceback": [
      "\u001b[1;31m---------------------------------------------------------------------------\u001b[0m",
      "\u001b[1;31mTypeError\u001b[0m                                 Traceback (most recent call last)",
      "\u001b[1;32m<ipython-input-63-5cd6be69bc50>\u001b[0m in \u001b[0;36m<module>\u001b[1;34m\u001b[0m\n\u001b[1;32m----> 1\u001b[1;33m \u001b[0mlen\u001b[0m\u001b[1;33m(\u001b[0m\u001b[0mcsvfile\u001b[0m\u001b[1;33m)\u001b[0m\u001b[1;33m\u001b[0m\u001b[1;33m\u001b[0m\u001b[0m\n\u001b[0m",
      "\u001b[1;31mTypeError\u001b[0m: object of type '_io.TextIOWrapper' has no len()"
     ]
    }
   ],
   "source": [
    "len(csvfile)"
   ]
  },
  {
   "cell_type": "code",
   "execution_count": null,
   "metadata": {},
   "outputs": [],
   "source": [
    "len(data)"
   ]
  },
  {
   "cell_type": "code",
   "execution_count": null,
   "metadata": {},
   "outputs": [],
   "source": [
    "x='This is a string'\n",
    "len(x)"
   ]
  },
  {
   "cell_type": "code",
   "execution_count": null,
   "metadata": {},
   "outputs": [],
   "source": [
    "data[0].keys()"
   ]
  },
  {
   "cell_type": "code",
   "execution_count": null,
   "metadata": {},
   "outputs": [],
   "source": [
    "data[0].values()"
   ]
  },
  {
   "cell_type": "code",
   "execution_count": null,
   "metadata": {},
   "outputs": [],
   "source": [
    "x=[1,2,3]\n",
    "print(x)"
   ]
  },
  {
   "cell_type": "code",
   "execution_count": null,
   "metadata": {},
   "outputs": [],
   "source": [
    "x.append('c',15)"
   ]
  },
  {
   "cell_type": "code",
   "execution_count": null,
   "metadata": {},
   "outputs": [],
   "source": [
    "x=[]\n",
    "x.append(2)\n",
    "print(x)"
   ]
  },
  {
   "cell_type": "code",
   "execution_count": null,
   "metadata": {},
   "outputs": [],
   "source": [
    "for c in x:\n",
    "    print(x)"
   ]
  },
  {
   "cell_type": "code",
   "execution_count": null,
   "metadata": {},
   "outputs": [],
   "source": []
  },
  {
   "cell_type": "code",
   "execution_count": null,
   "metadata": {},
   "outputs": [],
   "source": [
    "import csv\n",
    "%precision 2\n",
    "with open(r'C:\\Users\\aish\\Desktop\\Python Data Science\\cars.csv') as cfile:\n",
    "    dfm=list(csv.DictReader(cfile))\n",
    "dfm"
   ]
  },
  {
   "cell_type": "code",
   "execution_count": null,
   "metadata": {},
   "outputs": [],
   "source": [
    "dfm[0].keys()"
   ]
  },
  {
   "cell_type": "code",
   "execution_count": null,
   "metadata": {},
   "outputs": [],
   "source": [
    "dfm[1].values()"
   ]
  },
  {
   "cell_type": "code",
   "execution_count": null,
   "metadata": {},
   "outputs": [],
   "source": [
    "dfm[2].values()"
   ]
  },
  {
   "cell_type": "code",
   "execution_count": null,
   "metadata": {},
   "outputs": [],
   "source": [
    "cylinder=set(d['Cylinders'] for d in dfm)"
   ]
  },
  {
   "cell_type": "code",
   "execution_count": null,
   "metadata": {},
   "outputs": [],
   "source": [
    "dfm[0].keys()"
   ]
  },
  {
   "cell_type": "code",
   "execution_count": null,
   "metadata": {},
   "outputs": [],
   "source": [
    "dfm[0]"
   ]
  },
  {
   "cell_type": "code",
   "execution_count": null,
   "metadata": {},
   "outputs": [],
   "source": [
    "import csv\n",
    "%precision 2\n",
    "with open(r'C:\\Users\\aish\\Desktop\\Python Data Science\\cereal.csv') as rfile:\n",
    "    dfr=list(csv.DictReader(rfile))\n",
    "dfr[0].keys()\n"
   ]
  },
  {
   "cell_type": "code",
   "execution_count": null,
   "metadata": {},
   "outputs": [],
   "source": [
    "dfr[1].values()"
   ]
  },
  {
   "cell_type": "code",
   "execution_count": null,
   "metadata": {},
   "outputs": [],
   "source": [
    "dfr[0].keys()"
   ]
  },
  {
   "cell_type": "code",
   "execution_count": null,
   "metadata": {},
   "outputs": [],
   "source": [
    "import datetime as dt\n",
    "import time as tm\n"
   ]
  },
  {
   "cell_type": "code",
   "execution_count": null,
   "metadata": {},
   "outputs": [],
   "source": [
    "tm.time()"
   ]
  },
  {
   "cell_type": "code",
   "execution_count": null,
   "metadata": {},
   "outputs": [],
   "source": [
    "dtnow=dt.datetime.fromtimestamp(tm.time())\n",
    "dtnow"
   ]
  },
  {
   "cell_type": "code",
   "execution_count": null,
   "metadata": {},
   "outputs": [],
   "source": [
    "dtnow.year,dtnow.month,dtnow.hour,dtnow.min"
   ]
  },
  {
   "cell_type": "code",
   "execution_count": null,
   "metadata": {},
   "outputs": [],
   "source": [
    "dtnow.second"
   ]
  },
  {
   "cell_type": "code",
   "execution_count": null,
   "metadata": {},
   "outputs": [],
   "source": [
    "today=dt.date.today()\n",
    "delta=dt.timedelta(days=1)\n",
    "c=today-delta\n",
    "today"
   ]
  },
  {
   "cell_type": "code",
   "execution_count": null,
   "metadata": {},
   "outputs": [],
   "source": [
    "today>c"
   ]
  },
  {
   "cell_type": "code",
   "execution_count": null,
   "metadata": {},
   "outputs": [],
   "source": [
    "class college:\n",
    "    a=5\n",
    "    def mobile(self,x):\n",
    "        print(x*2)\n",
    "        print(\"This is a mobile configuration site\")\n",
    "\n",
    "mob1=college()\n",
    "college.mobile(mob1,5)\n",
    "        "
   ]
  },
  {
   "cell_type": "code",
   "execution_count": null,
   "metadata": {},
   "outputs": [],
   "source": [
    "x=[1,2,'s']\n",
    "x"
   ]
  },
  {
   "cell_type": "code",
   "execution_count": null,
   "metadata": {},
   "outputs": [],
   "source": [
    "x.remove('s')"
   ]
  },
  {
   "cell_type": "code",
   "execution_count": null,
   "metadata": {},
   "outputs": [],
   "source": [
    "x"
   ]
  },
  {
   "cell_type": "code",
   "execution_count": null,
   "metadata": {},
   "outputs": [],
   "source": [
    "x=[1,2,4,5,6,7,9,7]\n",
    "x"
   ]
  },
  {
   "cell_type": "code",
   "execution_count": null,
   "metadata": {},
   "outputs": [],
   "source": [
    "x.pop(0)\n",
    "x"
   ]
  },
  {
   "cell_type": "code",
   "execution_count": null,
   "metadata": {},
   "outputs": [],
   "source": [
    "del x[2:]\n",
    "x"
   ]
  },
  {
   "cell_type": "code",
   "execution_count": null,
   "metadata": {},
   "outputs": [],
   "source": [
    "x=(1,1,1,2,2,5,4)\n",
    "x.count(1)"
   ]
  },
  {
   "cell_type": "code",
   "execution_count": null,
   "metadata": {},
   "outputs": [],
   "source": [
    "x.index(1)"
   ]
  },
  {
   "cell_type": "code",
   "execution_count": null,
   "metadata": {},
   "outputs": [],
   "source": [
    "x.append(2)"
   ]
  },
  {
   "cell_type": "code",
   "execution_count": null,
   "metadata": {},
   "outputs": [],
   "source": [
    "for n in x:\n",
    "    print(x[n])"
   ]
  },
  {
   "cell_type": "code",
   "execution_count": null,
   "metadata": {},
   "outputs": [],
   "source": [
    "sums=0\n",
    "for n in x:\n",
    "    sums=sums+x[n-1]\n",
    "print(sums)\n",
    "    "
   ]
  },
  {
   "cell_type": "code",
   "execution_count": null,
   "metadata": {},
   "outputs": [],
   "source": [
    "x"
   ]
  },
  {
   "cell_type": "code",
   "execution_count": null,
   "metadata": {},
   "outputs": [],
   "source": [
    "x={11:'Rounak',10:'Gourang','Ramesh':'Suresh'}\n",
    "x['Ramesh']"
   ]
  },
  {
   "cell_type": "code",
   "execution_count": null,
   "metadata": {},
   "outputs": [],
   "source": [
    "x[1]"
   ]
  },
  {
   "cell_type": "code",
   "execution_count": null,
   "metadata": {},
   "outputs": [],
   "source": [
    "x.get(1,'Not Found')"
   ]
  },
  {
   "cell_type": "code",
   "execution_count": null,
   "metadata": {},
   "outputs": [],
   "source": [
    "x=['Rounak','Gourang','Poonam','Vinod']\n",
    "y=['student','student','homemaker','business']"
   ]
  },
  {
   "cell_type": "code",
   "execution_count": null,
   "metadata": {},
   "outputs": [],
   "source": [
    "data=dict(zip(x,y))"
   ]
  },
  {
   "cell_type": "code",
   "execution_count": null,
   "metadata": {},
   "outputs": [],
   "source": [
    "del data['Rounak']"
   ]
  },
  {
   "cell_type": "code",
   "execution_count": null,
   "metadata": {},
   "outputs": [],
   "source": [
    "data\n"
   ]
  },
  {
   "cell_type": "code",
   "execution_count": null,
   "metadata": {},
   "outputs": [],
   "source": [
    "prog={'Python':['spyder','jupyter'],'C':'cobol','Java':{'JEE':'netbeans','JSE':'console'}}"
   ]
  },
  {
   "cell_type": "code",
   "execution_count": null,
   "metadata": {},
   "outputs": [],
   "source": [
    "prog"
   ]
  },
  {
   "cell_type": "code",
   "execution_count": null,
   "metadata": {},
   "outputs": [],
   "source": [
    "prog['Python']"
   ]
  },
  {
   "cell_type": "code",
   "execution_count": null,
   "metadata": {},
   "outputs": [],
   "source": [
    "prog['Java']"
   ]
  },
  {
   "cell_type": "code",
   "execution_count": null,
   "metadata": {},
   "outputs": [],
   "source": [
    "prog['Java']['JSE']"
   ]
  },
  {
   "cell_type": "code",
   "execution_count": null,
   "metadata": {},
   "outputs": [],
   "source": [
    "help()"
   ]
  },
  {
   "cell_type": "code",
   "execution_count": null,
   "metadata": {},
   "outputs": [],
   "source": [
    "prog['Sahil']='Consultant'"
   ]
  },
  {
   "cell_type": "code",
   "execution_count": null,
   "metadata": {},
   "outputs": [],
   "source": [
    "prog"
   ]
  },
  {
   "cell_type": "code",
   "execution_count": null,
   "metadata": {},
   "outputs": [],
   "source": [
    "a=5"
   ]
  },
  {
   "cell_type": "code",
   "execution_count": null,
   "metadata": {},
   "outputs": [],
   "source": [
    "id(a)"
   ]
  },
  {
   "cell_type": "code",
   "execution_count": null,
   "metadata": {},
   "outputs": [],
   "source": [
    "b=6\n",
    "id(b)"
   ]
  },
  {
   "cell_type": "code",
   "execution_count": null,
   "metadata": {},
   "outputs": [],
   "source": [
    "a=11\n",
    "id(a)\n"
   ]
  },
  {
   "cell_type": "code",
   "execution_count": null,
   "metadata": {},
   "outputs": [],
   "source": [
    "b=a\n",
    "id(b)"
   ]
  },
  {
   "cell_type": "code",
   "execution_count": null,
   "metadata": {},
   "outputs": [],
   "source": [
    "b"
   ]
  },
  {
   "cell_type": "code",
   "execution_count": null,
   "metadata": {},
   "outputs": [],
   "source": [
    "range(15)"
   ]
  },
  {
   "cell_type": "code",
   "execution_count": null,
   "metadata": {},
   "outputs": [],
   "source": [
    "list(range(15))"
   ]
  },
  {
   "cell_type": "code",
   "execution_count": null,
   "metadata": {},
   "outputs": [],
   "source": [
    "list(range(20))"
   ]
  },
  {
   "cell_type": "code",
   "execution_count": null,
   "metadata": {},
   "outputs": [],
   "source": [
    "type(range(15))"
   ]
  },
  {
   "cell_type": "code",
   "execution_count": null,
   "metadata": {},
   "outputs": [],
   "source": [
    "list(range(2,10,2))"
   ]
  },
  {
   "cell_type": "code",
   "execution_count": null,
   "metadata": {},
   "outputs": [],
   "source": [
    "x=2\n",
    "id(x)"
   ]
  },
  {
   "cell_type": "code",
   "execution_count": null,
   "metadata": {},
   "outputs": [],
   "source": [
    "x=x+2\n",
    "x"
   ]
  },
  {
   "cell_type": "code",
   "execution_count": null,
   "metadata": {},
   "outputs": [],
   "source": [
    "id(x)"
   ]
  },
  {
   "cell_type": "code",
   "execution_count": null,
   "metadata": {},
   "outputs": [],
   "source": [
    "n=7"
   ]
  },
  {
   "cell_type": "code",
   "execution_count": null,
   "metadata": {},
   "outputs": [],
   "source": [
    "n"
   ]
  },
  {
   "cell_type": "code",
   "execution_count": null,
   "metadata": {},
   "outputs": [],
   "source": [
    "id(n)"
   ]
  },
  {
   "cell_type": "code",
   "execution_count": null,
   "metadata": {},
   "outputs": [],
   "source": [
    "n=-n"
   ]
  },
  {
   "cell_type": "code",
   "execution_count": null,
   "metadata": {},
   "outputs": [],
   "source": [
    "n"
   ]
  },
  {
   "cell_type": "code",
   "execution_count": null,
   "metadata": {},
   "outputs": [],
   "source": [
    "id(n)"
   ]
  },
  {
   "cell_type": "code",
   "execution_count": null,
   "metadata": {},
   "outputs": [],
   "source": [
    "bin(10)"
   ]
  },
  {
   "cell_type": "code",
   "execution_count": null,
   "metadata": {},
   "outputs": [],
   "source": [
    "bin(500)"
   ]
  },
  {
   "cell_type": "code",
   "execution_count": null,
   "metadata": {},
   "outputs": [],
   "source": [
    "hex(15)"
   ]
  },
  {
   "cell_type": "code",
   "execution_count": null,
   "metadata": {},
   "outputs": [],
   "source": [
    "oct(0b111110100)"
   ]
  },
  {
   "cell_type": "code",
   "execution_count": null,
   "metadata": {},
   "outputs": [],
   "source": [
    "oct(500\n",
    "   )"
   ]
  },
  {
   "cell_type": "code",
   "execution_count": null,
   "metadata": {},
   "outputs": [],
   "source": [
    "0b111110"
   ]
  },
  {
   "cell_type": "code",
   "execution_count": null,
   "metadata": {},
   "outputs": [],
   "source": [
    "a=5\n",
    "b=6"
   ]
  },
  {
   "cell_type": "code",
   "execution_count": null,
   "metadata": {},
   "outputs": [],
   "source": [
    "a=a+b\n",
    "b=a-b\n",
    "a=a-b\n",
    "a,b"
   ]
  },
  {
   "cell_type": "code",
   "execution_count": null,
   "metadata": {},
   "outputs": [],
   "source": [
    "a=a^b\n",
    "b=a^b\n",
    "a=a^b\n",
    "a,b"
   ]
  },
  {
   "cell_type": "code",
   "execution_count": null,
   "metadata": {},
   "outputs": [],
   "source": [
    "a,b=b,a\n",
    "a,b"
   ]
  },
  {
   "cell_type": "code",
   "execution_count": null,
   "metadata": {},
   "outputs": [],
   "source": [
    "bin(12)"
   ]
  },
  {
   "cell_type": "code",
   "execution_count": null,
   "metadata": {},
   "outputs": [],
   "source": [
    "int(0b11110011)"
   ]
  },
  {
   "cell_type": "code",
   "execution_count": null,
   "metadata": {},
   "outputs": [],
   "source": [
    "~12"
   ]
  },
  {
   "cell_type": "code",
   "execution_count": null,
   "metadata": {},
   "outputs": [],
   "source": [
    "~-12"
   ]
  },
  {
   "cell_type": "code",
   "execution_count": null,
   "metadata": {},
   "outputs": [],
   "source": [
    "bin(13)"
   ]
  },
  {
   "cell_type": "code",
   "execution_count": null,
   "metadata": {},
   "outputs": [],
   "source": [
    "0b11110011"
   ]
  },
  {
   "cell_type": "code",
   "execution_count": null,
   "metadata": {},
   "outputs": [],
   "source": [
    "0b0011"
   ]
  },
  {
   "cell_type": "code",
   "execution_count": null,
   "metadata": {},
   "outputs": [],
   "source": [
    "~13\n"
   ]
  },
  {
   "cell_type": "code",
   "execution_count": null,
   "metadata": {},
   "outputs": [],
   "source": [
    "bin(14)"
   ]
  },
  {
   "cell_type": "code",
   "execution_count": null,
   "metadata": {},
   "outputs": [],
   "source": [
    "bin(13)"
   ]
  },
  {
   "cell_type": "code",
   "execution_count": null,
   "metadata": {},
   "outputs": [],
   "source": [
    "bin(14)"
   ]
  },
  {
   "cell_type": "code",
   "execution_count": null,
   "metadata": {},
   "outputs": [],
   "source": [
    "bin(12)"
   ]
  },
  {
   "cell_type": "code",
   "execution_count": null,
   "metadata": {},
   "outputs": [],
   "source": [
    "bin(13)"
   ]
  },
  {
   "cell_type": "code",
   "execution_count": null,
   "metadata": {},
   "outputs": [],
   "source": [
    "bin(14)"
   ]
  },
  {
   "cell_type": "code",
   "execution_count": null,
   "metadata": {},
   "outputs": [],
   "source": [
    "0b1111"
   ]
  },
  {
   "cell_type": "code",
   "execution_count": null,
   "metadata": {},
   "outputs": [],
   "source": [
    "~14\n"
   ]
  },
  {
   "cell_type": "code",
   "execution_count": null,
   "metadata": {},
   "outputs": [],
   "source": [
    "10<<2"
   ]
  },
  {
   "cell_type": "code",
   "execution_count": null,
   "metadata": {},
   "outputs": [],
   "source": [
    "0b101000"
   ]
  },
  {
   "cell_type": "code",
   "execution_count": null,
   "metadata": {},
   "outputs": [],
   "source": [
    "10>>2"
   ]
  },
  {
   "cell_type": "code",
   "execution_count": null,
   "metadata": {},
   "outputs": [],
   "source": [
    "bin(10)"
   ]
  },
  {
   "cell_type": "code",
   "execution_count": null,
   "metadata": {},
   "outputs": [],
   "source": [
    "0b10"
   ]
  },
  {
   "cell_type": "code",
   "execution_count": null,
   "metadata": {},
   "outputs": [],
   "source": [
    "sqrt(25)\n"
   ]
  },
  {
   "cell_type": "code",
   "execution_count": null,
   "metadata": {},
   "outputs": [],
   "source": [
    "math.sqrt(25)"
   ]
  },
  {
   "cell_type": "code",
   "execution_count": null,
   "metadata": {},
   "outputs": [],
   "source": [
    "from math import sqrt,pow\n"
   ]
  },
  {
   "cell_type": "code",
   "execution_count": null,
   "metadata": {},
   "outputs": [],
   "source": [
    "sqrt(25)"
   ]
  },
  {
   "cell_type": "code",
   "execution_count": null,
   "metadata": {},
   "outputs": [],
   "source": [
    "help('math')"
   ]
  },
  {
   "cell_type": "code",
   "execution_count": null,
   "metadata": {},
   "outputs": [],
   "source": [
    "math.ceil(25.5)"
   ]
  },
  {
   "cell_type": "code",
   "execution_count": null,
   "metadata": {},
   "outputs": [],
   "source": [
    "a=math"
   ]
  },
  {
   "cell_type": "code",
   "execution_count": null,
   "metadata": {},
   "outputs": [],
   "source": [
    "type(a)"
   ]
  },
  {
   "cell_type": "code",
   "execution_count": null,
   "metadata": {},
   "outputs": [],
   "source": [
    "a.sqrt(28)"
   ]
  },
  {
   "cell_type": "code",
   "execution_count": null,
   "metadata": {},
   "outputs": [],
   "source": [
    "m.sqrt(25)"
   ]
  },
  {
   "cell_type": "code",
   "execution_count": null,
   "metadata": {},
   "outputs": [],
   "source": [
    "math.sqrt(28)"
   ]
  },
  {
   "cell_type": "code",
   "execution_count": null,
   "metadata": {},
   "outputs": [],
   "source": [
    "x=int(input(\"1st Number\"))\n",
    "y=int(input(\"2nd Number\"))\n",
    "z=x+y\n",
    "print('the added number is', z)"
   ]
  },
  {
   "cell_type": "code",
   "execution_count": null,
   "metadata": {},
   "outputs": [],
   "source": [
    "x=input('Enter your first name')[0]\n",
    "y=input('Enter your last name')[0]\n",
    "z=x +' '+ y\n",
    "print('Tour full name is',z)"
   ]
  },
  {
   "cell_type": "code",
   "execution_count": null,
   "metadata": {},
   "outputs": [],
   "source": [
    "result=eval(input('Put your mathematical expression'))\n",
    "print(result)"
   ]
  },
  {
   "cell_type": "code",
   "execution_count": null,
   "metadata": {},
   "outputs": [],
   "source": [
    "a=eval(input('Please input  your expression'))\n",
    "if(a%2==0):\n",
    "    print(a,'is even')\n",
    "else:\n",
    "    print(a,'is odd')\n"
   ]
  },
  {
   "cell_type": "code",
   "execution_count": null,
   "metadata": {},
   "outputs": [],
   "source": [
    "2^3"
   ]
  },
  {
   "cell_type": "code",
   "execution_count": null,
   "metadata": {},
   "outputs": [],
   "source": [
    "5^6"
   ]
  },
  {
   "cell_type": "code",
   "execution_count": null,
   "metadata": {},
   "outputs": [],
   "source": [
    "3^6"
   ]
  },
  {
   "cell_type": "code",
   "execution_count": null,
   "metadata": {},
   "outputs": [],
   "source": [
    "3^5"
   ]
  },
  {
   "cell_type": "code",
   "execution_count": null,
   "metadata": {},
   "outputs": [],
   "source": [
    "if False:\n",
    "    print('Hello')\n",
    "else:\n",
    "    print('Wrong')"
   ]
  },
  {
   "cell_type": "code",
   "execution_count": null,
   "metadata": {},
   "outputs": [],
   "source": [
    "a=eval(input(\"input your expression\"))\n",
    "if a%2==0:\n",
    "    print(a,'is even')\n",
    "    if a<10:\n",
    "        print(a,'is less than 10')\n",
    "    else:\n",
    "        print(a,'is greater than 10')\n",
    "else:\n",
    "    print(a,'is odd')\n",
    "    if a<10:\n",
    "        print(a,'is less than 10')\n",
    "    else:\n",
    "        print(a,'is greater than 10')"
   ]
  },
  {
   "cell_type": "code",
   "execution_count": null,
   "metadata": {},
   "outputs": [],
   "source": [
    "i=1\n",
    "while i<=5:\n",
    "    print('Hello',i)\n",
    "    i+=1"
   ]
  },
  {
   "cell_type": "code",
   "execution_count": null,
   "metadata": {},
   "outputs": [],
   "source": [
    "x=[1,2,3,4,5,6,7,8,9,10]\n",
    "i=0\n",
    "sums=0\n",
    "while(i<len(x)):\n",
    "    sums+=x[i]\n",
    "    i+=1\n",
    "print(sums)"
   ]
  },
  {
   "cell_type": "code",
   "execution_count": null,
   "metadata": {},
   "outputs": [],
   "source": [
    "i=1\n",
    "while i<=5:\n",
    "    print(\"hello\",end=\"\")\n",
    "    i+=1\n",
    "    j=1\n",
    "    while j<=5:\n",
    "        print(\"  world\",end=\"\")\n",
    "        j+=1\n",
    "    print()\n",
    "    \n",
    "\n"
   ]
  },
  {
   "cell_type": "code",
   "execution_count": null,
   "metadata": {},
   "outputs": [],
   "source": [
    "i=1\n",
    "while i<=100:\n",
    "    if not( i%3==0 or i%5==0):\n",
    "        print(i)\n",
    "    i+=1\n",
    "\n",
    "        "
   ]
  },
  {
   "cell_type": "code",
   "execution_count": null,
   "metadata": {},
   "outputs": [],
   "source": [
    "i=1\n",
    "while i<=4:\n",
    "    print('#',end=\"\")\n",
    "    j=1\n",
    "    while j<=4:\n",
    "        print('#',end=\"\")\n",
    "        j+=1\n",
    "    i+=1\n",
    "    print()"
   ]
  },
  {
   "cell_type": "code",
   "execution_count": null,
   "metadata": {},
   "outputs": [],
   "source": [
    "x=['Rounak','Gourang',25,45]\n",
    "for n in x:\n",
    "    print(n)"
   ]
  },
  {
   "cell_type": "code",
   "execution_count": null,
   "metadata": {},
   "outputs": [],
   "source": [
    "x={'x':2,'Rounak':'ICT','y':'Hurrah'}\n",
    "print(x)"
   ]
  },
  {
   "cell_type": "code",
   "execution_count": null,
   "metadata": {},
   "outputs": [],
   "source": [
    "for n in x:\n",
    "    print(x)"
   ]
  },
  {
   "cell_type": "code",
   "execution_count": null,
   "metadata": {},
   "outputs": [],
   "source": [
    "for n in x:\n",
    "    print(n)"
   ]
  },
  {
   "cell_type": "code",
   "execution_count": null,
   "metadata": {},
   "outputs": [],
   "source": [
    "for n in x:\n",
    "    print (x[n])"
   ]
  },
  {
   "cell_type": "code",
   "execution_count": null,
   "metadata": {},
   "outputs": [],
   "source": [
    "x='NAVIN'\n",
    "for n in x:\n",
    "    print(n,end='')"
   ]
  },
  {
   "cell_type": "code",
   "execution_count": null,
   "metadata": {},
   "outputs": [],
   "source": [
    "i=0\n",
    "while i<len(x):\n",
    "    print(x[i])\n",
    "    i+=1"
   ]
  },
  {
   "cell_type": "code",
   "execution_count": null,
   "metadata": {},
   "outputs": [],
   "source": [
    "for i in range(20,9,-1):\n",
    "    print(i)"
   ]
  },
  {
   "cell_type": "code",
   "execution_count": null,
   "metadata": {},
   "outputs": [],
   "source": [
    "\n",
    "for i in range(1,21):\n",
    "    if not(i%5==0):\n",
    "        print(i)\n",
    "    "
   ]
  },
  {
   "cell_type": "code",
   "execution_count": null,
   "metadata": {},
   "outputs": [],
   "source": [
    "from math import pow\n",
    "for i in range(1,501):\n",
    "    if pow(i,2)<500:\n",
    "        print (int(pow(i,2)))\n"
   ]
  },
  {
   "cell_type": "code",
   "execution_count": null,
   "metadata": {},
   "outputs": [],
   "source": [
    "ava=5\n",
    "x=int(input(\"Number of candies\"))\n",
    "i=1\n",
    "while i<=x:\n",
    "    if ava-x>=0:\n",
    "        print('Candy')\n",
    "        else:\n",
    "            print(\"Sorry we are out of stock\")\n",
    "    i+=1"
   ]
  },
  {
   "cell_type": "code",
   "execution_count": null,
   "metadata": {},
   "outputs": [],
   "source": [
    "def addi(a,b):\n",
    "    return a+b\n"
   ]
  },
  {
   "cell_type": "code",
   "execution_count": null,
   "metadata": {},
   "outputs": [],
   "source": [
    "addi(3,5)"
   ]
  },
  {
   "cell_type": "code",
   "execution_count": 5,
   "metadata": {},
   "outputs": [
    {
     "name": "stdout",
     "output_type": "stream",
     "text": [
      "__main__\n"
     ]
    }
   ],
   "source": [
    "print(__name__)"
   ]
  },
  {
   "cell_type": "code",
   "execution_count": null,
   "metadata": {},
   "outputs": [],
   "source": []
  }
 ],
 "metadata": {
  "kernelspec": {
   "display_name": "Python 3",
   "language": "python",
   "name": "python3"
  },
  "language_info": {
   "codemirror_mode": {
    "name": "ipython",
    "version": 3
   },
   "file_extension": ".py",
   "mimetype": "text/x-python",
   "name": "python",
   "nbconvert_exporter": "python",
   "pygments_lexer": "ipython3",
   "version": "3.7.6"
  }
 },
 "nbformat": 4,
 "nbformat_minor": 4
}
