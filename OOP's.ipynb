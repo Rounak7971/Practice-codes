{
 "cells": [
  {
   "cell_type": "code",
   "execution_count": 40,
   "metadata": {},
   "outputs": [],
   "source": [
    "class computer:\n",
    "    def config(self):\n",
    "        print(\"This method gives us configuration of various pc\")"
   ]
  },
  {
   "cell_type": "code",
   "execution_count": 44,
   "metadata": {},
   "outputs": [],
   "source": [
    "a=computer()"
   ]
  },
  {
   "cell_type": "code",
   "execution_count": 45,
   "metadata": {},
   "outputs": [
    {
     "name": "stdout",
     "output_type": "stream",
     "text": [
      "This method gives us configuration of various pc\n"
     ]
    }
   ],
   "source": [
    "a.config()"
   ]
  },
  {
   "cell_type": "code",
   "execution_count": 47,
   "metadata": {},
   "outputs": [
    {
     "name": "stdout",
     "output_type": "stream",
     "text": [
      "This method gives us configuration of various pc\n"
     ]
    }
   ],
   "source": [
    "computer.config(a)\n"
   ]
  },
  {
   "cell_type": "code",
   "execution_count": 56,
   "metadata": {},
   "outputs": [],
   "source": [
    "class person:\n",
    "    def name(self):\n",
    "        print('My name is Rounak Naryani')\n",
    "c=person()"
   ]
  },
  {
   "cell_type": "code",
   "execution_count": 57,
   "metadata": {},
   "outputs": [
    {
     "name": "stdout",
     "output_type": "stream",
     "text": [
      "My name is Rounak Naryani\n"
     ]
    }
   ],
   "source": [
    "c.name()"
   ]
  },
  {
   "cell_type": "code",
   "execution_count": 60,
   "metadata": {},
   "outputs": [
    {
     "name": "stdout",
     "output_type": "stream",
     "text": [
      "This is initialization variable\n",
      "This is initialization variable\n"
     ]
    }
   ],
   "source": [
    "class cricket:\n",
    "    def __init__(self):\n",
    "        print('This is initialization variable')\n",
    "    def pitch(self):\n",
    "        print('The pitch is very dry today')\n",
    "q1=cricket()\n",
    "q2=cricket()"
   ]
  },
  {
   "cell_type": "code",
   "execution_count": 61,
   "metadata": {},
   "outputs": [
    {
     "name": "stdout",
     "output_type": "stream",
     "text": [
      "The pitch is very dry today\n"
     ]
    }
   ],
   "source": [
    "q1.pitch()"
   ]
  },
  {
   "cell_type": "code",
   "execution_count": 62,
   "metadata": {},
   "outputs": [
    {
     "name": "stdout",
     "output_type": "stream",
     "text": [
      "The pitch is very dry today\n"
     ]
    }
   ],
   "source": [
    "q2.pitch()"
   ]
  },
  {
   "cell_type": "code",
   "execution_count": 71,
   "metadata": {},
   "outputs": [
    {
     "name": "stdout",
     "output_type": "stream",
     "text": [
      "The information is as follows Rounak 22\n",
      "The information is as follows Gourang 18\n"
     ]
    }
   ],
   "source": [
    "class student:\n",
    "    def __init__(self,name,age):\n",
    "        self.name=name\n",
    "        self.age=age\n",
    "    \n",
    "    def info(self):\n",
    "        print('The information is as follows',self.name,self.age)\n",
    "s1=student('Rounak',22)\n",
    "s2=student('Gourang',18)\n",
    "s1.info()\n",
    "s2.info()"
   ]
  },
  {
   "cell_type": "code",
   "execution_count": 82,
   "metadata": {},
   "outputs": [
    {
     "name": "stdout",
     "output_type": "stream",
     "text": [
      "They are different\n"
     ]
    }
   ],
   "source": [
    "class check:\n",
    "    def __init__(self,name,age):\n",
    "        self.name=name\n",
    "        self.age=age\n",
    "    def update(self):\n",
    "        self.age=50\n",
    "    def compare(self,other):\n",
    "        if self.age==other.age:\n",
    "            return True\n",
    "        else:\n",
    "            return False\n",
    "           \n",
    "c1=check('Rounak',18)\n",
    "c2=check('Golu',16)\n",
    "c1.update()\n",
    "if c1.compare(c2):\n",
    "    print('They are same')\n",
    "else:\n",
    "    print('They are different')\n",
    "\n",
    "\n"
   ]
  },
  {
   "cell_type": "code",
   "execution_count": 92,
   "metadata": {},
   "outputs": [
    {
     "name": "stdout",
     "output_type": "stream",
     "text": [
      "Suzuki 15 4\n",
      "Suzuki 89 4\n"
     ]
    }
   ],
   "source": [
    "class car:\n",
    "    wheels=4\n",
    "    \n",
    "    def __init__(self):\n",
    "        self.name='Suzuki'\n",
    "        self.mpg=89\n",
    "ca1=car()\n",
    "ca2=car()\n",
    "ca1.mpg=15\n",
    "print(ca1.name,ca1.mpg,car.wheels)\n",
    "print(ca2.name,ca2.mpg,ca1.wheels)\n"
   ]
  },
  {
   "cell_type": "code",
   "execution_count": 30,
   "metadata": {},
   "outputs": [
    {
     "name": "stdout",
     "output_type": "stream",
     "text": [
      "India\n",
      "Today is sunday\n"
     ]
    }
   ],
   "source": [
    "class team:\n",
    "    side='India'\n",
    "    def __init__(self,r1,r2,r3):\n",
    "        self.r1=r1\n",
    "        self.r2=r2\n",
    "        self.r3=r3\n",
    "    def avg(self):\n",
    "        return (self.r1+self.r2+self.r3)/3\n",
    "        \n",
    "    def get_r1(self):\n",
    "        return self.r1\n",
    "    \n",
    "    def set_r1(self):\n",
    "        self.r1=int(input('Put your score r1'))\n",
    "    \n",
    "    def set_r2(self,value):\n",
    "        self.r2=value\n",
    "        \n",
    "    @staticmethod\n",
    "    def day():\n",
    "        print('Today is sunday')\n",
    "    @classmethod\n",
    "    def info(cls):\n",
    "        return cls.side\n",
    "    \n",
    "p1=team(15,35,45)\n",
    "p2=team(55,25,85)\n",
    "\n",
    "print(team.info())\n",
    "team.day()\n"
   ]
  },
  {
   "cell_type": "code",
   "execution_count": 76,
   "metadata": {},
   "outputs": [
    {
     "name": "stdout",
     "output_type": "stream",
     "text": [
      "('Rounak', 1458, ('Dell', 4, 'i8'))\n"
     ]
    }
   ],
   "source": [
    "class employee:\n",
    "    def __init__(self,name,rollNo):\n",
    "        self.name=name\n",
    "        self.rollNo=rollNo\n",
    "        self.lap=self.laptop()   \n",
    "        \n",
    "    def show(self):\n",
    "        return self.name,self.rollNo,self.lap.show()\n",
    "    \n",
    "    \n",
    "    class laptop:\n",
    "        def __init__(self):\n",
    "            self.brand='Dell'\n",
    "            self.ram=4\n",
    "            self.gen='i8'\n",
    "            \n",
    "        def show(self):\n",
    "            return(self.brand,self.ram,self.gen)\n",
    "    \n",
    "        \n",
    "e1=employee('Rounak',1458)\n",
    "e2=employee('Pranav',1862)\n",
    "print(e1.show())\n",
    "\n"
   ]
  },
  {
   "cell_type": "code",
   "execution_count": 101,
   "metadata": {},
   "outputs": [
    {
     "name": "stdout",
     "output_type": "stream",
     "text": [
      "This in initialization of A\n",
      "This is __init__ of C\n",
      "This commmand print function 1 of A\n"
     ]
    }
   ],
   "source": [
    "class A:\n",
    "    def __init__(self):\n",
    "        print('This in initialization of A')\n",
    "    def func_1(self):\n",
    "        print('This commmand print function 1 of A')\n",
    "    def func_2(self):\n",
    "        print('This command prints function 2')\n",
    "class B():\n",
    "    def __init__(self):\n",
    "        super().__init__()\n",
    "        print('This is initialization of B')\n",
    "    def func_1(self):\n",
    "        print('This command print function 1 of B')\n",
    "class C(A,B):\n",
    "    def __init__(self):\n",
    "        super().__init__()\n",
    "        print('This is __init__ of C')\n",
    "        \n",
    "    def func_4(self):\n",
    "        prnt('This command prints function 4')    \n",
    "c=C()\n",
    "c.func_1()\n",
    "\n",
    "\n",
    "\n",
    "    "
   ]
  },
  {
   "cell_type": "code",
   "execution_count": null,
   "metadata": {},
   "outputs": [],
   "source": []
  },
  {
   "cell_type": "code",
   "execution_count": null,
   "metadata": {},
   "outputs": [],
   "source": []
  },
  {
   "cell_type": "code",
   "execution_count": null,
   "metadata": {},
   "outputs": [],
   "source": []
  }
 ],
 "metadata": {
  "kernelspec": {
   "display_name": "Python 3",
   "language": "python",
   "name": "python3"
  },
  "language_info": {
   "codemirror_mode": {
    "name": "ipython",
    "version": 3
   },
   "file_extension": ".py",
   "mimetype": "text/x-python",
   "name": "python",
   "nbconvert_exporter": "python",
   "pygments_lexer": "ipython3",
   "version": "3.7.6"
  }
 },
 "nbformat": 4,
 "nbformat_minor": 4
}
